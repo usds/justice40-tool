{
 "cells": [
  {
   "cell_type": "markdown",
   "id": "8c11c900-b1e9-48c2-967d-7fd2eb85cac1",
   "metadata": {},
   "source": [
    "# Generate FUDS test data\n",
    "\n",
    "Creating the fixture data for the Formerly Used Defense Sites (FUDS) is pretty involved. The below walks through creating the data and then eyeballing it so you can check your test results. So, if the FUDS updates and you want to generate new sample data for your tests, run this notebook."
   ]
  },
  {
   "cell_type": "code",
   "execution_count": 1,
   "id": "f8ab7cf7-3124-41f3-9c62-0633d7815686",
   "metadata": {},
   "outputs": [],
   "source": [
    "import os\n",
    "import sys\n",
    "from data_pipeline.etl.sources.geo_utils import add_tracts_for_geometries\n",
    "import json\n",
    "\n",
    "# Add this project to the path\n",
    "module_path = os.path.abspath(os.path.join(\"../..\"))\n",
    "if module_path not in sys.path:\n",
    "    sys.path.append(module_path)"
   ]
  },
  {
   "cell_type": "code",
   "execution_count": 2,
   "id": "f59dc003-7df1-48c2-9278-86e1f8c65355",
   "metadata": {},
   "outputs": [],
   "source": [
    "import geopandas as gpd\n",
    "import pandas as pd\n",
    "from data_pipeline.etl.sources.census.etl import CensusETL\n",
    "from data_pipeline.etl.sources.us_army_fuds.etl import USArmyFUDS"
   ]
  },
  {
   "cell_type": "code",
   "execution_count": 3,
   "id": "598dfe82-04b9-4e9c-a74b-a18c9db6688c",
   "metadata": {},
   "outputs": [],
   "source": [
    "%load_ext lab_black"
   ]
  },
  {
   "cell_type": "markdown",
   "id": "53b68b92-e575-4404-b79d-7dceb302f588",
   "metadata": {},
   "source": [
    "# Load the source data and census tract data"
   ]
  },
  {
   "cell_type": "code",
   "execution_count": 4,
   "id": "2c4e0d6b-1dab-4e0a-952b-6cf9b11700da",
   "metadata": {},
   "outputs": [
    {
     "name": "stderr",
     "output_type": "stream",
     "text": [
      "2022-08-10 17:57:23,542 [data_pipeline.etl.sources.us_army_fuds.etl] INFO     Starting data download.\n",
      "2022-08-10 17:57:23,542 [data_pipeline.utils] INFO     Downloading https://opendata.arcgis.com/api/v3/datasets/3f8354667d5b4b1b8ad7a6e00c3cf3b1_1/downloads/data?format=geojson&spatialRefId=4326&where=1%3D1\n"
     ]
    }
   ],
   "source": [
    "# get the data\n",
    "etl = USArmyFUDS()\n",
    "etl.extract()"
   ]
  },
  {
   "cell_type": "code",
   "execution_count": 5,
   "id": "c5752c7e-174d-451c-b123-d41b805f11ff",
   "metadata": {},
   "outputs": [],
   "source": [
    "df = gpd.read_file(etl.DOWNLOAD_FILE_NAME, lowmemory=False)"
   ]
  },
  {
   "cell_type": "code",
   "execution_count": 6,
   "id": "8b372cc7-e44b-4a3a-a482-50870138401f",
   "metadata": {},
   "outputs": [],
   "source": [
    "census_tracts = gpd.read_file(CensusETL.NATIONAL_TRACT_JSON_PATH)"
   ]
  },
  {
   "cell_type": "code",
   "execution_count": 7,
   "id": "b8edbb53-b8d8-4a85-acc1-da880435f945",
   "metadata": {},
   "outputs": [],
   "source": [
    "census_tracts.set_index(\"GEOID10\", inplace=True)"
   ]
  },
  {
   "cell_type": "markdown",
   "id": "d5f5a152-dbaa-4c5b-93a9-813d92f9f504",
   "metadata": {
    "tags": []
   },
   "source": [
    "# Generate the test data"
   ]
  },
  {
   "cell_type": "code",
   "execution_count": 8,
   "id": "5890aa7e-bce2-484e-ad52-a4b4742ea81d",
   "metadata": {},
   "outputs": [],
   "source": [
    "with open(etl.DOWNLOAD_FILE_NAME) as geojson:\n",
    "    raw_fuds_geojson = json.load(geojson)"
   ]
  },
  {
   "cell_type": "code",
   "execution_count": null,
   "id": "8977d7b4-6cdf-49e6-84b6-016576663a58",
   "metadata": {},
   "outputs": [],
   "source": [
    "tract_df = add_tracts_for_geometries(df)"
   ]
  },
  {
   "cell_type": "code",
   "execution_count": null,
   "id": "2fdc8327-fea6-4e46-aceb-6e000e709716",
   "metadata": {},
   "outputs": [],
   "source": [
    "example_geoids = pd.read_csv(\n",
    "    \"../tests/sources/example/data/extract.csv\", dtype=\"object\"\n",
    ")"
   ]
  },
  {
   "cell_type": "code",
   "execution_count": null,
   "id": "4c642f03-aeac-450a-9ac1-51038d2002e0",
   "metadata": {},
   "outputs": [],
   "source": [
    "merged_exaple_data = pd.merge(\n",
    "    example_geoids[\"GEOID10_TRACT\"],\n",
    "    tract_df,\n",
    "    on=\"GEOID10_TRACT\",\n",
    "    how=\"left\",\n",
    "    indicator=True,\n",
    ")"
   ]
  },
  {
   "cell_type": "code",
   "execution_count": null,
   "id": "1b3e5fff-41cd-4c6d-8f37-3ce2c0fe66bf",
   "metadata": {},
   "outputs": [],
   "source": [
    "merged_exaple_data[merged_exaple_data[\"_merge\"] == \"left_only\"]"
   ]
  },
  {
   "cell_type": "code",
   "execution_count": null,
   "id": "b97e3aa3-88d0-4748-b7bb-77365078ea38",
   "metadata": {},
   "outputs": [],
   "source": [
    "original_crs = census_tracts.crs\n",
    "points = (\n",
    "    census_tracts.to_crs(epsg=3395)\n",
    "    .loc[\n",
    "        merged_exaple_data[(merged_exaple_data[\"_merge\"] == \"left_only\")]\n",
    "        .query('not GEOID10_TRACT.str.startswith(\"06\")')\n",
    "        .GEOID10_TRACT\n",
    "    ]\n",
    "    .centroid.to_crs(original_crs)\n",
    "    .to_dict()\n",
    ")"
   ]
  },
  {
   "cell_type": "code",
   "execution_count": null,
   "id": "a2ebcfec-ec7c-454e-ac0f-cee14a93989f",
   "metadata": {},
   "outputs": [],
   "source": [
    "object_ids_to_keep = set(\n",
    "    merged_exaple_data[merged_exaple_data[\"_merge\"] == \"both\"].OBJECTID.astype(\"int\")\n",
    ")\n",
    "features = []\n",
    "for feature in raw_fuds_geojson[\"features\"]:\n",
    "    if feature[\"properties\"][\"OBJECTID\"] in object_ids_to_keep:\n",
    "        features.append(feature)"
   ]
  },
  {
   "cell_type": "code",
   "execution_count": null,
   "id": "703bf1cd-e150-461d-8eed-ce35a593c28a",
   "metadata": {},
   "outputs": [],
   "source": [
    "def make_fake_feature(\n",
    "    state: str, has_projects: bool, is_eligible: bool, latitude: float, longitude: float\n",
    "):\n",
    "    \"\"\"For tracts where we don't have a FUDS, fake one.\"\"\"\n",
    "    make_fake_feature._object_id += 1\n",
    "    return {\n",
    "        \"type\": \"Feature\",\n",
    "        \"properties\": {\n",
    "            \"OBJECTID\": make_fake_feature._object_id,\n",
    "            \"CENTROIDLAT\": None,\n",
    "            \"CENTROIDLONG\": None,\n",
    "            \"CLOSESTCITY\": None,\n",
    "            \"CONGRESSIONALDISTRICT\": \"15\",\n",
    "            \"COUNTY\": None,\n",
    "            \"CURRENTOWNER\": None,\n",
    "            \"DODFUDSPROPERTYIDPK\": \" \",\n",
    "            \"ELIGIBILITY\": \"Eligible\" if is_eligible else \"Ineligible\",\n",
    "            \"EMSMGMTACTIONPLANLINK\": \"https://fudsportal.usace.army.mil/ems/inventory/map?id=54113\",\n",
    "            \"EPAREGION\": \"06\",\n",
    "            \"FEATUREDESCRIPTION\": None,\n",
    "            \"FEATURENAME\": \"NEIL, ET AL, PROPERTIES\",\n",
    "            \"FUDSINSTALLATIONID\": None,\n",
    "            \"FUDSUNIQUEPROPERTYNUMBER\": \"K06TX1120\",\n",
    "            \"HASPROJECTS\": \"Yes\" if has_projects else \"No\",\n",
    "            \"LATITUDE\": latitude,\n",
    "            \"LONGITUDE\": longitude,\n",
    "            \"MEDIAID\": None,\n",
    "            \"METADATAID\": None,\n",
    "            \"NOFURTHERACTION\": None,\n",
    "            \"PROJECTREQUIRED\": \"No\",\n",
    "            \"SDSID\": None,\n",
    "            \"SITEELIGIBILITY\": None,\n",
    "            \"STATE\": state,\n",
    "            \"STATUS\": \"Properties with projects\"\n",
    "            if has_projects\n",
    "            else \"Properties without projects\",\n",
    "            \"STATUSCODE\": \"Not on the NPL\",\n",
    "            \"USACEDISTRICT\": \"swf\",\n",
    "            \"FISCALYEAR\": \"2019\",\n",
    "            \"PROPERTY_HISTORY\": None,\n",
    "            \"USACEDIVISION\": \"swd\",\n",
    "        },\n",
    "        \"geometry\": {\n",
    "            \"type\": \"Point\",\n",
    "            \"coordinates\": [longitude, latitude],\n",
    "        },\n",
    "    }\n",
    "\n",
    "\n",
    "make_fake_feature._object_id = 50"
   ]
  },
  {
   "cell_type": "code",
   "execution_count": null,
   "id": "5e020301-a22f-4b42-9aea-127c0d2fe718",
   "metadata": {},
   "outputs": [],
   "source": [
    "# Create FUDS in CA for each tract that doesn't have a FUDS\n",
    "for tract_id, point in points.items():\n",
    "    for bools in [(True, True), (True, False), (False, False)]:\n",
    "        features.append(make_fake_feature(\"CA\", bools[0], bools[1], point.y, point.x))"
   ]
  },
  {
   "cell_type": "code",
   "execution_count": null,
   "id": "eb278e9b-e86d-459b-8961-89696e8173ea",
   "metadata": {},
   "outputs": [],
   "source": [
    "test_fuds_geojson = raw_fuds_geojson.copy()\n",
    "test_fuds_geojson[\"features\"] = features"
   ]
  },
  {
   "cell_type": "code",
   "execution_count": null,
   "id": "01e7fea9-cd9e-4f62-b498-f1cb8cb30f04",
   "metadata": {},
   "outputs": [],
   "source": [
    "with open(\"../tests/sources/us_army_fuds/data/fuds.geojson\", \"w\") as outfile:\n",
    "    json.dump(test_fuds_geojson, outfile)"
   ]
  },
  {
   "cell_type": "markdown",
   "id": "5300ea7d-ecc7-4502-bda8-abe9bb183e13",
   "metadata": {},
   "source": [
    "# Eyeball the data to check the results of the tests"
   ]
  },
  {
   "cell_type": "code",
   "execution_count": null,
   "id": "3b912164-8b07-417b-93ff-4180823fe485",
   "metadata": {},
   "outputs": [],
   "source": [
    "test_frame = gpd.read_file(\"../tests/sources/us_army_fuds/data/fuds.geojson\")"
   ]
  },
  {
   "cell_type": "code",
   "execution_count": null,
   "id": "82603b6b-bf87-4b5c-9e17-0898ccbb43b3",
   "metadata": {},
   "outputs": [],
   "source": [
    "test_frame_with_tracts_full = test_frame_with_tracts = add_tracts_for_geometries(\n",
    "    test_frame\n",
    ")"
   ]
  },
  {
   "cell_type": "markdown",
   "id": "6829ace4-0289-4d25-915e-4f95d00777ac",
   "metadata": {},
   "source": [
    "## Pre-compute the long, lat: tract relationship for use in a mock in the tests"
   ]
  },
  {
   "cell_type": "code",
   "execution_count": null,
   "id": "c085d3a6-dcb4-4f64-b654-68516e6268d1",
   "metadata": {},
   "outputs": [],
   "source": [
    "test_frame_with_tracts = test_frame_with_tracts.set_index(\n",
    "    [\"GEOID10_TRACT\", \"OBJECTID\"]\n",
    ")[[\"ELIGIBILITY\", \"HASPROJECTS\"]]"
   ]
  },
  {
   "cell_type": "code",
   "execution_count": null,
   "id": "41f6649a-f31c-4fac-a72d-a38f79de499a",
   "metadata": {},
   "outputs": [],
   "source": [
    "tracts = test_frame_with_tracts_full[[\"GEOID10_TRACT\", \"geometry\"]].drop_duplicates()\n",
    "tracts[\"lat_long\"] = test_frame_with_tracts_full.geometry.apply(\n",
    "    lambda point: (point.x, point.y)\n",
    ")\n",
    "tracts.set_index(\"lat_long\")[\"GEOID10_TRACT\"].to_dict()"
   ]
  },
  {
   "cell_type": "markdown",
   "id": "22d109ae-9bc4-499f-9d58-1b7db2842a37",
   "metadata": {},
   "source": [
    "## Look at the sample data itself"
   ]
  },
  {
   "cell_type": "code",
   "execution_count": null,
   "id": "399b009a-8d52-4872-87ac-1aa1e82a7d67",
   "metadata": {},
   "outputs": [],
   "source": [
    "test_frame_with_tracts"
   ]
  },
  {
   "cell_type": "code",
   "execution_count": null,
   "id": "2a48b84d-418e-4690-925e-ba397ab3b239",
   "metadata": {},
   "outputs": [],
   "source": [
    "test_frame_with_tracts.sort_index()"
   ]
  }
 ],
 "metadata": {
  "kernelspec": {
   "display_name": "Python 3 (ipykernel)",
   "language": "python",
   "name": "python3"
  },
  "language_info": {
   "codemirror_mode": {
    "name": "ipython",
    "version": 3
   },
   "file_extension": ".py",
   "mimetype": "text/x-python",
   "name": "python",
   "nbconvert_exporter": "python",
   "pygments_lexer": "ipython3",
   "version": "3.10.4"
  }
 },
 "nbformat": 4,
 "nbformat_minor": 5
}
