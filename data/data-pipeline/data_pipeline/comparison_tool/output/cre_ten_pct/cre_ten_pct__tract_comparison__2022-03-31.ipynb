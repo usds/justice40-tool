{
 "cells": [
  {
   "cell_type": "code",
   "execution_count": 1,
   "id": "81788485-12d4-41f4-b5db-aa4874a32501",
   "metadata": {
    "execution": {
     "iopub.execute_input": "2022-03-31T15:19:19.850119Z",
     "iopub.status.busy": "2022-03-31T15:19:19.849780Z",
     "iopub.status.idle": "2022-03-31T15:19:22.682030Z",
     "shell.execute_reply": "2022-03-31T15:19:22.680735Z"
    },
    "papermill": {
     "duration": 2.858282,
     "end_time": "2022-03-31T15:19:22.685293",
     "exception": false,
     "start_time": "2022-03-31T15:19:19.827011",
     "status": "completed"
    },
    "tags": []
   },
   "outputs": [],
   "source": [
    "import pandas as pd\n",
    "import numpy as np\n",
    "import os\n",
    "import datetime\n",
    "import sys\n",
    "import seaborn as sns\n",
    "import matplotlib.pyplot as plt\n",
    "\n",
    "from data_pipeline.score import field_names\n",
    "from data_pipeline.comparison_tool.src import utils   \n",
    "\n",
    "pd.options.display.float_format = \"{:,.3f}\".format\n",
    "%load_ext lab_black"
   ]
  },
  {
   "cell_type": "markdown",
   "id": "2820ead7-981d-40e0-8a07-80f9f1c48b9c",
   "metadata": {
    "papermill": {
     "duration": 0.017164,
     "end_time": "2022-03-31T15:19:22.718835",
     "exception": false,
     "start_time": "2022-03-31T15:19:22.701671",
     "status": "completed"
    },
    "tags": []
   },
   "source": [
    "# Comparator definition comparison\n",
    "\n",
    "This notebook answers a few questions:\n",
    "1. How many tracts are flagged and what's the size of overlap by comparator?\n",
    "2. What are the demographics of each set of tracts by \"category\" of score (CEJST but not comparator, comparator but not CEJST, CEJST and comparator)?\n",
    "3. What are the overall demographics of ALL comparator vs ALL CEJST?\n",
    "\n",
    "It produces a single Excel file of the stats listed, but is interactive even after run-time. This notebook focuses on 1:1 comparison. It can be pointed in the YAML to either a simple output (tract and boolean for highlight) or to the output from an ETL."
   ]
  },
  {
   "cell_type": "code",
   "execution_count": 2,
   "id": "2093584e-312b-44f7-87d7-6099d9fe000f",
   "metadata": {
    "execution": {
     "iopub.execute_input": "2022-03-31T15:19:22.755903Z",
     "iopub.status.busy": "2022-03-31T15:19:22.755487Z",
     "iopub.status.idle": "2022-03-31T15:19:22.765867Z",
     "shell.execute_reply": "2022-03-31T15:19:22.765175Z"
    },
    "papermill": {
     "duration": 0.031895,
     "end_time": "2022-03-31T15:19:22.767984",
     "exception": false,
     "start_time": "2022-03-31T15:19:22.736089",
     "status": "completed"
    },
    "tags": [
     "parameters"
    ]
   },
   "outputs": [],
   "source": [
    "## These are parameters and get overridden by the \"injected parameters\" cell below\n",
    "ADDITIONAL_DEMO_COLUMNS = []\n",
    "COMPARATOR_COLUMN = None\n",
    "COMPARATOR_FILE = None\n",
    "DEMOGRAPHIC_COLUMNS = []\n",
    "DEMOGRAPHIC_FILE = None\n",
    "OUTPUT_DATA_PATH = None\n",
    "SCORE_FILE = None\n",
    "OTHER_COMPARATOR_COLUMNS = None\n",
    "OUTPUT_NAME = None\n",
    "KEEP_MISSING_VALUES_FOR_SEGMENTATION = True"
   ]
  },
  {
   "cell_type": "code",
   "execution_count": 3,
   "id": "cf9d1c28",
   "metadata": {
    "execution": {
     "iopub.execute_input": "2022-03-31T15:19:22.804448Z",
     "iopub.status.busy": "2022-03-31T15:19:22.804221Z",
     "iopub.status.idle": "2022-03-31T15:19:22.819699Z",
     "shell.execute_reply": "2022-03-31T15:19:22.819147Z"
    },
    "papermill": {
     "duration": 0.035141,
     "end_time": "2022-03-31T15:19:22.821477",
     "exception": false,
     "start_time": "2022-03-31T15:19:22.786336",
     "status": "completed"
    },
    "tags": [
     "injected-parameters"
    ]
   },
   "outputs": [],
   "source": [
    "# Parameters\n",
    "ADDITIONAL_DEMO_COLUMNS = [\n",
    "    \"Urban Heuristic Flag\",\n",
    "    \"Percent of individuals below 200% Federal Poverty Line\",\n",
    "    \"Percent individuals age 25 or over with less than high school degree\",\n",
    "    \"Unemployment (percent)\",\n",
    "    \"Percent of households in linguistic isolation\",\n",
    "]\n",
    "COMPARATOR_COLUMN = \"three_factor_dac_10_pct\"\n",
    "COMPARATOR_FILE = \"/Users/emmausds/Desktop/justice40-tool/data/data-pipeline/data_pipeline/comparison_tool/data/community_resilience_estimates/clean/cre_clean.csv\"\n",
    "DEMOGRAPHIC_COLUMNS = [\n",
    "    \"Percent Black or African American alone\",\n",
    "    \"Percent American Indian and Alaska Native alone\",\n",
    "    \"Percent Asian alone\",\n",
    "    \"Percent Native Hawaiian and Other Pacific alone\",\n",
    "    \"Percent Two or more races\",\n",
    "    \"Percent Non-Hispanic White\",\n",
    "    \"Percent Hispanic or Latino\",\n",
    "]\n",
    "DEMOGRAPHIC_FILE = \"/Users/emmausds/Desktop/justice40-tool/data/data-pipeline/data_pipeline/data/dataset/census_acs_2019/usa.csv\"\n",
    "OUTPUT_DATA_PATH = \"/Users/emmausds/Desktop/justice40-tool/data/data-pipeline/data_pipeline/comparison_tool/output/cre_ten_pct\"\n",
    "SCORE_FILE = \"/Users/emmausds/Desktop/justice40-tool/data/data-pipeline/data_pipeline/data/score/csv/full/usa.csv\"\n",
    "KEEP_MISSING_VALUES_FOR_SEGMENTATION = True\n",
    "OTHER_COMPARATOR_COLUMNS = [\n",
    "    \"one_two_factor_dac_10_pct\",\n",
    "    \"three_factor_dac\",\n",
    "    \"one_two_factor_dac\",\n",
    "    \"PRED3_PE\",\n",
    "    \"PRED12_PE\",\n",
    "]\n",
    "OUTPUT_NAME = \"cre_ten_pct\"\n"
   ]
  },
  {
   "cell_type": "code",
   "execution_count": 4,
   "id": "bd38aaaa",
   "metadata": {
    "execution": {
     "iopub.execute_input": "2022-03-31T15:19:22.859179Z",
     "iopub.status.busy": "2022-03-31T15:19:22.858813Z",
     "iopub.status.idle": "2022-03-31T15:19:22.864041Z",
     "shell.execute_reply": "2022-03-31T15:19:22.863384Z"
    },
    "papermill": {
     "duration": 0.026768,
     "end_time": "2022-03-31T15:19:22.865815",
     "exception": false,
     "start_time": "2022-03-31T15:19:22.839047",
     "status": "completed"
    },
    "tags": []
   },
   "outputs": [],
   "source": [
    "## These are constants for all runs\n",
    "GEOID_COLUMN = field_names.GEOID_TRACT_FIELD\n",
    "SCORE_COLUMN = field_names.SCORE_M_COMMUNITIES\n",
    "TOTAL_POPULATION_COLUMN = field_names.TOTAL_POP_FIELD"
   ]
  },
  {
   "cell_type": "markdown",
   "id": "8a3940be",
   "metadata": {
    "papermill": {
     "duration": 0.018375,
     "end_time": "2022-03-31T15:19:22.936603",
     "exception": false,
     "start_time": "2022-03-31T15:19:22.918228",
     "status": "completed"
    },
    "tags": []
   },
   "source": [
    "__Date and time of last run__"
   ]
  },
  {
   "cell_type": "code",
   "execution_count": 5,
   "id": "5f19a1e3-fe05-425d-9160-4d4e193fadf7",
   "metadata": {
    "execution": {
     "iopub.execute_input": "2022-03-31T15:19:22.975360Z",
     "iopub.status.busy": "2022-03-31T15:19:22.975135Z",
     "iopub.status.idle": "2022-03-31T15:19:22.984307Z",
     "shell.execute_reply": "2022-03-31T15:19:22.983433Z"
    },
    "papermill": {
     "duration": 0.030809,
     "end_time": "2022-03-31T15:19:22.986153",
     "exception": false,
     "start_time": "2022-03-31T15:19:22.955344",
     "status": "completed"
    },
    "tags": []
   },
   "outputs": [
    {
     "data": {
      "text/plain": [
       "datetime.datetime(2022, 3, 31, 11, 19, 22, 976196)"
      ]
     },
     "execution_count": 5,
     "metadata": {},
     "output_type": "execute_result"
    }
   ],
   "source": [
    "datetime.datetime.now()"
   ]
  },
  {
   "cell_type": "markdown",
   "id": "269b0f06-edee-4fce-8755-a8e7fe92e340",
   "metadata": {
    "papermill": {
     "duration": 0.019523,
     "end_time": "2022-03-31T15:19:23.024757",
     "exception": false,
     "start_time": "2022-03-31T15:19:23.005234",
     "status": "completed"
    },
    "tags": []
   },
   "source": [
    "__Congfigure output (autocreated)__"
   ]
  },
  {
   "cell_type": "code",
   "execution_count": 6,
   "id": "acace944-18fa-4b05-a581-8147e8e09299",
   "metadata": {
    "execution": {
     "iopub.execute_input": "2022-03-31T15:19:23.063832Z",
     "iopub.status.busy": "2022-03-31T15:19:23.063582Z",
     "iopub.status.idle": "2022-03-31T15:19:23.069804Z",
     "shell.execute_reply": "2022-03-31T15:19:23.069307Z"
    },
    "papermill": {
     "duration": 0.028727,
     "end_time": "2022-03-31T15:19:23.071914",
     "exception": false,
     "start_time": "2022-03-31T15:19:23.043187",
     "status": "completed"
    },
    "tags": []
   },
   "outputs": [],
   "source": [
    "OUTPUT_EXCEL = os.path.join(\n",
    "    OUTPUT_DATA_PATH,\n",
    "    f\"{OUTPUT_NAME}__{datetime.datetime.now().strftime('%Y-%m-%d')}.xlsx\",\n",
    ")"
   ]
  },
  {
   "cell_type": "markdown",
   "id": "806b8a7a",
   "metadata": {
    "papermill": {
     "duration": 0.017556,
     "end_time": "2022-03-31T15:19:23.108821",
     "exception": false,
     "start_time": "2022-03-31T15:19:23.091265",
     "status": "completed"
    },
    "tags": []
   },
   "source": [
    "__Validate new data__"
   ]
  },
  {
   "cell_type": "code",
   "execution_count": 7,
   "id": "0d089469",
   "metadata": {
    "execution": {
     "iopub.execute_input": "2022-03-31T15:19:23.148517Z",
     "iopub.status.busy": "2022-03-31T15:19:23.148200Z",
     "iopub.status.idle": "2022-03-31T15:19:23.157456Z",
     "shell.execute_reply": "2022-03-31T15:19:23.156712Z"
    },
    "papermill": {
     "duration": 0.031327,
     "end_time": "2022-03-31T15:19:23.160212",
     "exception": false,
     "start_time": "2022-03-31T15:19:23.128885",
     "status": "completed"
    },
    "tags": []
   },
   "outputs": [],
   "source": [
    "utils.validate_new_data(\n",
    "    file_path=COMPARATOR_FILE, score_col=COMPARATOR_COLUMN\n",
    ")"
   ]
  },
  {
   "cell_type": "markdown",
   "id": "f5517217-f107-4fee-b4ca-be61f6b2b7c3",
   "metadata": {
    "papermill": {
     "duration": 0.019357,
     "end_time": "2022-03-31T15:19:23.197673",
     "exception": false,
     "start_time": "2022-03-31T15:19:23.178316",
     "status": "completed"
    },
    "tags": []
   },
   "source": [
    "__Read in data__"
   ]
  },
  {
   "cell_type": "code",
   "execution_count": 8,
   "id": "cdefecf2-100b-4ad2-b0bd-101c0bad5a92",
   "metadata": {
    "execution": {
     "iopub.execute_input": "2022-03-31T15:19:23.236717Z",
     "iopub.status.busy": "2022-03-31T15:19:23.236437Z",
     "iopub.status.idle": "2022-03-31T15:19:26.228750Z",
     "shell.execute_reply": "2022-03-31T15:19:26.227934Z"
    },
    "papermill": {
     "duration": 3.01346,
     "end_time": "2022-03-31T15:19:26.231401",
     "exception": false,
     "start_time": "2022-03-31T15:19:23.217941",
     "status": "completed"
    },
    "tags": []
   },
   "outputs": [],
   "source": [
    "comparator_cols = [COMPARATOR_COLUMN] + OTHER_COMPARATOR_COLUMNS if OTHER_COMPARATOR_COLUMNS else [COMPARATOR_COLUMN]\n",
    "\n",
    "#papermill_description=Loading_data\n",
    "joined_df = pd.concat(\n",
    "    [\n",
    "        utils.read_file(\n",
    "            file_path=SCORE_FILE,\n",
    "            columns=[TOTAL_POPULATION_COLUMN, SCORE_COLUMN] + ADDITIONAL_DEMO_COLUMNS,\n",
    "            geoid=GEOID_COLUMN,\n",
    "        ),\n",
    "        utils.read_file(\n",
    "            file_path=COMPARATOR_FILE,\n",
    "            columns=comparator_cols,\n",
    "            geoid=GEOID_COLUMN\n",
    "        ),\n",
    "        utils.read_file(\n",
    "            file_path=DEMOGRAPHIC_FILE,\n",
    "            columns=DEMOGRAPHIC_COLUMNS,\n",
    "            geoid=GEOID_COLUMN,\n",
    "        ),\n",
    "    ],\n",
    "    axis=1,\n",
    ").reset_index()"
   ]
  },
  {
   "cell_type": "markdown",
   "id": "da71a62c-9c2c-46bd-815f-37cdb9ca18a1",
   "metadata": {
    "papermill": {
     "duration": 0.023659,
     "end_time": "2022-03-31T15:19:26.278940",
     "exception": false,
     "start_time": "2022-03-31T15:19:26.255281",
     "status": "completed"
    },
    "tags": []
   },
   "source": [
    "## High-level summary"
   ]
  },
  {
   "cell_type": "markdown",
   "id": "bfaf9912-1ffe-49e7-a38a-2f815b07826d",
   "metadata": {
    "papermill": {
     "duration": 0.022014,
     "end_time": "2022-03-31T15:19:26.324069",
     "exception": false,
     "start_time": "2022-03-31T15:19:26.302055",
     "status": "completed"
    },
    "tags": []
   },
   "source": [
    "What *shares* of tracts and population highlighted by the comparator are covered by CEJST?"
   ]
  },
  {
   "cell_type": "code",
   "execution_count": 9,
   "id": "93d2990c-edc0-404b-aeea-b62e3ca7b308",
   "metadata": {
    "execution": {
     "iopub.execute_input": "2022-03-31T15:19:26.369938Z",
     "iopub.status.busy": "2022-03-31T15:19:26.369545Z",
     "iopub.status.idle": "2022-03-31T15:19:26.455871Z",
     "shell.execute_reply": "2022-03-31T15:19:26.454509Z"
    },
    "papermill": {
     "duration": 0.113398,
     "end_time": "2022-03-31T15:19:26.458251",
     "exception": false,
     "start_time": "2022-03-31T15:19:26.344853",
     "status": "completed"
    },
    "tags": []
   },
   "outputs": [
    {
     "data": {
      "text/html": [
       "<div>\n",
       "<style scoped>\n",
       "    .dataframe tbody tr th:only-of-type {\n",
       "        vertical-align: middle;\n",
       "    }\n",
       "\n",
       "    .dataframe tbody tr th {\n",
       "        vertical-align: top;\n",
       "    }\n",
       "\n",
       "    .dataframe thead th {\n",
       "        text-align: right;\n",
       "    }\n",
       "</style>\n",
       "<table border=\"1\" class=\"dataframe\">\n",
       "  <thead>\n",
       "    <tr style=\"text-align: right;\">\n",
       "      <th></th>\n",
       "      <th></th>\n",
       "      <th>Population</th>\n",
       "      <th>Count of tracts</th>\n",
       "      <th>Share of tracts</th>\n",
       "      <th>Share of population</th>\n",
       "    </tr>\n",
       "    <tr>\n",
       "      <th>three_factor_dac_10_pct</th>\n",
       "      <th>Definition M (communities)</th>\n",
       "      <th></th>\n",
       "      <th></th>\n",
       "      <th></th>\n",
       "      <th></th>\n",
       "    </tr>\n",
       "  </thead>\n",
       "  <tbody>\n",
       "    <tr>\n",
       "      <th rowspan=\"2\" valign=\"top\">False</th>\n",
       "      <th>False</th>\n",
       "      <td>228,031,608.000</td>\n",
       "      <td>49246</td>\n",
       "      <td>0.664</td>\n",
       "      <td>0.699</td>\n",
       "    </tr>\n",
       "    <tr>\n",
       "      <th>True</th>\n",
       "      <td>67,577,317.000</td>\n",
       "      <td>16499</td>\n",
       "      <td>0.222</td>\n",
       "      <td>0.207</td>\n",
       "    </tr>\n",
       "    <tr>\n",
       "      <th rowspan=\"2\" valign=\"top\">True</th>\n",
       "      <th>False</th>\n",
       "      <td>4,558,682.000</td>\n",
       "      <td>1207</td>\n",
       "      <td>0.016</td>\n",
       "      <td>0.014</td>\n",
       "    </tr>\n",
       "    <tr>\n",
       "      <th>True</th>\n",
       "      <td>22,735,423.000</td>\n",
       "      <td>6104</td>\n",
       "      <td>0.082</td>\n",
       "      <td>0.070</td>\n",
       "    </tr>\n",
       "    <tr>\n",
       "      <th rowspan=\"2\" valign=\"top\">missing</th>\n",
       "      <th>False</th>\n",
       "      <td>200,672.000</td>\n",
       "      <td>230</td>\n",
       "      <td>0.003</td>\n",
       "      <td>0.001</td>\n",
       "    </tr>\n",
       "    <tr>\n",
       "      <th>True</th>\n",
       "      <td>3,186,269.000</td>\n",
       "      <td>874</td>\n",
       "      <td>0.012</td>\n",
       "      <td>0.010</td>\n",
       "    </tr>\n",
       "  </tbody>\n",
       "</table>\n",
       "</div>"
      ],
      "text/plain": [
       "                                                        Population  \\\n",
       "three_factor_dac_10_pct Definition M (communities)                   \n",
       "False                   False                      228,031,608.000   \n",
       "                        True                        67,577,317.000   \n",
       "True                    False                        4,558,682.000   \n",
       "                        True                        22,735,423.000   \n",
       "missing                 False                          200,672.000   \n",
       "                        True                         3,186,269.000   \n",
       "\n",
       "                                                    Count of tracts  \\\n",
       "three_factor_dac_10_pct Definition M (communities)                    \n",
       "False                   False                                 49246   \n",
       "                        True                                  16499   \n",
       "True                    False                                  1207   \n",
       "                        True                                   6104   \n",
       "missing                 False                                   230   \n",
       "                        True                                    874   \n",
       "\n",
       "                                                    Share of tracts  \\\n",
       "three_factor_dac_10_pct Definition M (communities)                    \n",
       "False                   False                                 0.664   \n",
       "                        True                                  0.222   \n",
       "True                    False                                 0.016   \n",
       "                        True                                  0.082   \n",
       "missing                 False                                 0.003   \n",
       "                        True                                  0.012   \n",
       "\n",
       "                                                    Share of population  \n",
       "three_factor_dac_10_pct Definition M (communities)                       \n",
       "False                   False                                     0.699  \n",
       "                        True                                      0.207  \n",
       "True                    False                                     0.014  \n",
       "                        True                                      0.070  \n",
       "missing                 False                                     0.001  \n",
       "                        True                                      0.010  "
      ]
     },
     "execution_count": 9,
     "metadata": {},
     "output_type": "execute_result"
    }
   ],
   "source": [
    "#papermill_description=Summary_stats\n",
    "population_df = utils.produce_summary_stats(\n",
    "    joined_df=joined_df,\n",
    "    comparator_column=COMPARATOR_COLUMN,\n",
    "    score_column=SCORE_COLUMN,\n",
    "    population_column=TOTAL_POPULATION_COLUMN,\n",
    "    geoid_column=GEOID_COLUMN\n",
    ")\n",
    "population_df"
   ]
  },
  {
   "cell_type": "markdown",
   "id": "0c945e85-874d-4f1f-921e-ff2f0de42767",
   "metadata": {
    "papermill": {
     "duration": 0.021676,
     "end_time": "2022-03-31T15:19:26.497003",
     "exception": false,
     "start_time": "2022-03-31T15:19:26.475327",
     "status": "completed"
    },
    "tags": []
   },
   "source": [
    "## Tract-level stats\n",
    "\n",
    "First, this walks through overall stats for disadvantaged communities under the comparator definition and under the CEJST's definition. Next, this walks through stats by group (e.g., CEJST and not comparator). This is at the tract level, so the average across tracts, where tracts are not population-weighted. "
   ]
  },
  {
   "cell_type": "code",
   "execution_count": 10,
   "id": "618d2bac-8800-4fd7-a75d-f4abaae30923",
   "metadata": {
    "execution": {
     "iopub.execute_input": "2022-03-31T15:19:26.536181Z",
     "iopub.status.busy": "2022-03-31T15:19:26.535926Z",
     "iopub.status.idle": "2022-03-31T15:19:26.603301Z",
     "shell.execute_reply": "2022-03-31T15:19:26.602505Z"
    },
    "papermill": {
     "duration": 0.090955,
     "end_time": "2022-03-31T15:19:26.605472",
     "exception": false,
     "start_time": "2022-03-31T15:19:26.514517",
     "status": "completed"
    },
    "tags": []
   },
   "outputs": [
    {
     "data": {
      "text/html": [
       "<div>\n",
       "<style scoped>\n",
       "    .dataframe tbody tr th:only-of-type {\n",
       "        vertical-align: middle;\n",
       "    }\n",
       "\n",
       "    .dataframe tbody tr th {\n",
       "        vertical-align: top;\n",
       "    }\n",
       "\n",
       "    .dataframe thead th {\n",
       "        text-align: right;\n",
       "    }\n",
       "</style>\n",
       "<table border=\"1\" class=\"dataframe\">\n",
       "  <thead>\n",
       "    <tr style=\"text-align: right;\">\n",
       "      <th></th>\n",
       "      <th>three_factor_dac_10_pct</th>\n",
       "      <th>Definition M (communities)</th>\n",
       "    </tr>\n",
       "  </thead>\n",
       "  <tbody>\n",
       "    <tr>\n",
       "      <th>Urban Heuristic Flag</th>\n",
       "      <td>0.861</td>\n",
       "      <td>0.839</td>\n",
       "    </tr>\n",
       "    <tr>\n",
       "      <th>Percent of individuals below 200% Federal Poverty Line</th>\n",
       "      <td>0.565</td>\n",
       "      <td>0.530</td>\n",
       "    </tr>\n",
       "    <tr>\n",
       "      <th>Percent individuals age 25 or over with less than high school degree</th>\n",
       "      <td>0.242</td>\n",
       "      <td>0.225</td>\n",
       "    </tr>\n",
       "    <tr>\n",
       "      <th>Unemployment (percent)</th>\n",
       "      <td>0.101</td>\n",
       "      <td>0.091</td>\n",
       "    </tr>\n",
       "    <tr>\n",
       "      <th>Percent of households in linguistic isolation</th>\n",
       "      <td>0.100</td>\n",
       "      <td>0.112</td>\n",
       "    </tr>\n",
       "    <tr>\n",
       "      <th>Percent Black or African American alone</th>\n",
       "      <td>0.345</td>\n",
       "      <td>0.250</td>\n",
       "    </tr>\n",
       "    <tr>\n",
       "      <th>Percent American Indian and Alaska Native alone</th>\n",
       "      <td>0.025</td>\n",
       "      <td>0.016</td>\n",
       "    </tr>\n",
       "    <tr>\n",
       "      <th>Percent Asian alone</th>\n",
       "      <td>0.034</td>\n",
       "      <td>0.040</td>\n",
       "    </tr>\n",
       "    <tr>\n",
       "      <th>Percent Native Hawaiian and Other Pacific alone</th>\n",
       "      <td>0.001</td>\n",
       "      <td>0.002</td>\n",
       "    </tr>\n",
       "    <tr>\n",
       "      <th>Percent Two or more races</th>\n",
       "      <td>0.029</td>\n",
       "      <td>0.034</td>\n",
       "    </tr>\n",
       "    <tr>\n",
       "      <th>Percent Non-Hispanic White</th>\n",
       "      <td>0.316</td>\n",
       "      <td>0.379</td>\n",
       "    </tr>\n",
       "    <tr>\n",
       "      <th>Percent Hispanic or Latino</th>\n",
       "      <td>0.269</td>\n",
       "      <td>0.304</td>\n",
       "    </tr>\n",
       "  </tbody>\n",
       "</table>\n",
       "</div>"
      ],
      "text/plain": [
       "                                                    three_factor_dac_10_pct  \\\n",
       "Urban Heuristic Flag                                                  0.861   \n",
       "Percent of individuals below 200% Federal Pover...                    0.565   \n",
       "Percent individuals age 25 or over with less th...                    0.242   \n",
       "Unemployment (percent)                                                0.101   \n",
       "Percent of households in linguistic isolation                         0.100   \n",
       "Percent Black or African American alone                               0.345   \n",
       "Percent American Indian and Alaska Native alone                       0.025   \n",
       "Percent Asian alone                                                   0.034   \n",
       "Percent Native Hawaiian and Other Pacific alone                       0.001   \n",
       "Percent Two or more races                                             0.029   \n",
       "Percent Non-Hispanic White                                            0.316   \n",
       "Percent Hispanic or Latino                                            0.269   \n",
       "\n",
       "                                                    Definition M (communities)  \n",
       "Urban Heuristic Flag                                                     0.839  \n",
       "Percent of individuals below 200% Federal Pover...                       0.530  \n",
       "Percent individuals age 25 or over with less th...                       0.225  \n",
       "Unemployment (percent)                                                   0.091  \n",
       "Percent of households in linguistic isolation                            0.112  \n",
       "Percent Black or African American alone                                  0.250  \n",
       "Percent American Indian and Alaska Native alone                          0.016  \n",
       "Percent Asian alone                                                      0.040  \n",
       "Percent Native Hawaiian and Other Pacific alone                          0.002  \n",
       "Percent Two or more races                                                0.034  \n",
       "Percent Non-Hispanic White                                               0.379  \n",
       "Percent Hispanic or Latino                                               0.304  "
      ]
     },
     "execution_count": 10,
     "metadata": {},
     "output_type": "execute_result"
    }
   ],
   "source": [
    "#papermill_description=Tract_stats\n",
    "tract_level_by_identification_df = pd.concat(\n",
    "    [\n",
    "        utils.get_demo_series(\n",
    "            grouping_column=COMPARATOR_COLUMN,\n",
    "            joined_df=joined_df,\n",
    "            demo_columns=ADDITIONAL_DEMO_COLUMNS + DEMOGRAPHIC_COLUMNS\n",
    "        ),\n",
    "        utils.get_demo_series(\n",
    "            grouping_column=SCORE_COLUMN,\n",
    "            joined_df=joined_df,\n",
    "            demo_columns=ADDITIONAL_DEMO_COLUMNS + DEMOGRAPHIC_COLUMNS\n",
    "        ),\n",
    "    ],\n",
    "    axis=1,\n",
    ")\n",
    "\n",
    "tract_level_by_identification_df"
   ]
  },
  {
   "cell_type": "code",
   "execution_count": 11,
   "id": "0f37bfa5-5e9e-46d1-97af-8d0e7d53c80b",
   "metadata": {
    "execution": {
     "iopub.execute_input": "2022-03-31T15:19:26.658008Z",
     "iopub.status.busy": "2022-03-31T15:19:26.657737Z",
     "iopub.status.idle": "2022-03-31T15:19:27.429405Z",
     "shell.execute_reply": "2022-03-31T15:19:27.428734Z"
    },
    "papermill": {
     "duration": 0.799095,
     "end_time": "2022-03-31T15:19:27.431621",
     "exception": false,
     "start_time": "2022-03-31T15:19:26.632526",
     "status": "completed"
    },
    "tags": []
   },
   "outputs": [
    {
     "data": {
      "image/png": "[encoded data removed]",
      "text/plain": [
       "<Figure size 792x792 with 1 Axes>"
      ]
     },
     "metadata": {
      "needs_background": "light"
     },
     "output_type": "display_data"
    }
   ],
   "source": [
    "plt.figure(figsize=(11, 11))\n",
    "sns.barplot(\n",
    "    y=\"Variable\",\n",
    "    x=\"Avg in tracts\",\n",
    "    hue=\"Definition\",\n",
    "    data=tract_level_by_identification_df.sort_values(by=COMPARATOR_COLUMN, ascending=False)\n",
    "    .stack()\n",
    "    .reset_index()\n",
    "    .rename(\n",
    "        columns={\"level_0\": \"Variable\", \"level_1\": \"Definition\", 0: \"Avg in tracts\"}\n",
    "    ),\n",
    "    palette=\"Blues\",\n",
    ")\n",
    "plt.xlim(0, 1)\n",
    "plt.title(\"Tract level averages by identification strategy\")\n",
    "plt.savefig(os.path.join(OUTPUT_DATA_PATH, \"tract_lvl_avg.jpg\"), bbox_inches='tight')"
   ]
  },
  {
   "cell_type": "code",
   "execution_count": 12,
   "id": "713f2a04-1b2a-472c-b036-454cd5c9a495",
   "metadata": {
    "execution": {
     "iopub.execute_input": "2022-03-31T15:19:27.485575Z",
     "iopub.status.busy": "2022-03-31T15:19:27.485084Z",
     "iopub.status.idle": "2022-03-31T15:19:27.558282Z",
     "shell.execute_reply": "2022-03-31T15:19:27.557393Z"
    },
    "papermill": {
     "duration": 0.103949,
     "end_time": "2022-03-31T15:19:27.561594",
     "exception": false,
     "start_time": "2022-03-31T15:19:27.457645",
     "status": "completed"
    },
    "tags": []
   },
   "outputs": [],
   "source": [
    "#papermill_description=Tract_stats_grouped\n",
    "tract_level_by_grouping_df = utils.get_tract_level_grouping(\n",
    "    joined_df=joined_df,\n",
    "    score_column=SCORE_COLUMN,\n",
    "    comparator_column=COMPARATOR_COLUMN,\n",
    "    demo_columns=ADDITIONAL_DEMO_COLUMNS + DEMOGRAPHIC_COLUMNS,\n",
    "    keep_missing_values=KEEP_MISSING_VALUES_FOR_SEGMENTATION\n",
    ")\n",
    "\n",
    "tract_level_by_grouping_formatted_df = utils.format_multi_index_for_excel(\n",
    "    df=tract_level_by_grouping_df\n",
    ")"
   ]
  },
  {
   "cell_type": "code",
   "execution_count": 13,
   "id": "0d166f53-4242-46f1-aedf-51dac517de94",
   "metadata": {
    "execution": {
     "iopub.execute_input": "2022-03-31T15:19:27.615907Z",
     "iopub.status.busy": "2022-03-31T15:19:27.615374Z",
     "iopub.status.idle": "2022-03-31T15:19:27.629157Z",
     "shell.execute_reply": "2022-03-31T15:19:27.628371Z"
    },
    "papermill": {
     "duration": 0.042244,
     "end_time": "2022-03-31T15:19:27.631468",
     "exception": false,
     "start_time": "2022-03-31T15:19:27.589224",
     "status": "completed"
    },
    "tags": []
   },
   "outputs": [
    {
     "data": {
      "text/html": [
       "<div>\n",
       "<style scoped>\n",
       "    .dataframe tbody tr th:only-of-type {\n",
       "        vertical-align: middle;\n",
       "    }\n",
       "\n",
       "    .dataframe tbody tr th {\n",
       "        vertical-align: top;\n",
       "    }\n",
       "\n",
       "    .dataframe thead th {\n",
       "        text-align: right;\n",
       "    }\n",
       "</style>\n",
       "<table border=\"1\" class=\"dataframe\">\n",
       "  <thead>\n",
       "    <tr style=\"text-align: right;\">\n",
       "      <th></th>\n",
       "      <th>Variable</th>\n",
       "      <th>Not CEJST, Not Comparator</th>\n",
       "      <th>Not CEJST, Comparator</th>\n",
       "      <th>Not CEJST, No Comparator classification</th>\n",
       "      <th>CEJST, Not Comparator</th>\n",
       "      <th>CEJST, Comparator</th>\n",
       "      <th>CEJST, No Comparator classification</th>\n",
       "    </tr>\n",
       "  </thead>\n",
       "  <tbody>\n",
       "    <tr>\n",
       "      <th>0</th>\n",
       "      <td>Urban Heuristic Flag</td>\n",
       "      <td>0.790</td>\n",
       "      <td>0.811</td>\n",
       "      <td>0.600</td>\n",
       "      <td>0.827</td>\n",
       "      <td>0.871</td>\n",
       "      <td>NaN</td>\n",
       "    </tr>\n",
       "    <tr>\n",
       "      <th>1</th>\n",
       "      <td>Percent of individuals below 200% Federal Pove...</td>\n",
       "      <td>0.234</td>\n",
       "      <td>0.381</td>\n",
       "      <td>0.466</td>\n",
       "      <td>0.493</td>\n",
       "      <td>0.601</td>\n",
       "      <td>0.756</td>\n",
       "    </tr>\n",
       "    <tr>\n",
       "      <th>2</th>\n",
       "      <td>Percent individuals age 25 or over with less t...</td>\n",
       "      <td>0.081</td>\n",
       "      <td>0.134</td>\n",
       "      <td>0.087</td>\n",
       "      <td>0.210</td>\n",
       "      <td>0.263</td>\n",
       "      <td>0.252</td>\n",
       "    </tr>\n",
       "    <tr>\n",
       "      <th>3</th>\n",
       "      <td>Unemployment (percent)</td>\n",
       "      <td>0.044</td>\n",
       "      <td>0.066</td>\n",
       "      <td>0.109</td>\n",
       "      <td>0.081</td>\n",
       "      <td>0.108</td>\n",
       "      <td>0.181</td>\n",
       "    </tr>\n",
       "    <tr>\n",
       "      <th>4</th>\n",
       "      <td>Percent of households in linguistic isolation</td>\n",
       "      <td>0.025</td>\n",
       "      <td>0.043</td>\n",
       "      <td>0.239</td>\n",
       "      <td>0.083</td>\n",
       "      <td>0.111</td>\n",
       "      <td>0.708</td>\n",
       "    </tr>\n",
       "    <tr>\n",
       "      <th>5</th>\n",
       "      <td>Percent Black or African American alone</td>\n",
       "      <td>0.084</td>\n",
       "      <td>0.192</td>\n",
       "      <td>0.078</td>\n",
       "      <td>0.210</td>\n",
       "      <td>0.375</td>\n",
       "      <td>0.120</td>\n",
       "    </tr>\n",
       "    <tr>\n",
       "      <th>6</th>\n",
       "      <td>Percent American Indian and Alaska Native alone</td>\n",
       "      <td>0.006</td>\n",
       "      <td>0.010</td>\n",
       "      <td>0.002</td>\n",
       "      <td>0.012</td>\n",
       "      <td>0.028</td>\n",
       "      <td>0.002</td>\n",
       "    </tr>\n",
       "    <tr>\n",
       "      <th>7</th>\n",
       "      <td>Percent Asian alone</td>\n",
       "      <td>0.054</td>\n",
       "      <td>0.043</td>\n",
       "      <td>0.007</td>\n",
       "      <td>0.045</td>\n",
       "      <td>0.033</td>\n",
       "      <td>0.002</td>\n",
       "    </tr>\n",
       "    <tr>\n",
       "      <th>8</th>\n",
       "      <td>Percent Native Hawaiian and Other Pacific alone</td>\n",
       "      <td>0.002</td>\n",
       "      <td>0.001</td>\n",
       "      <td>0.000</td>\n",
       "      <td>0.002</td>\n",
       "      <td>0.001</td>\n",
       "      <td>0.000</td>\n",
       "    </tr>\n",
       "    <tr>\n",
       "      <th>9</th>\n",
       "      <td>Percent Two or more races</td>\n",
       "      <td>0.032</td>\n",
       "      <td>0.027</td>\n",
       "      <td>0.049</td>\n",
       "      <td>0.035</td>\n",
       "      <td>0.030</td>\n",
       "      <td>0.056</td>\n",
       "    </tr>\n",
       "    <tr>\n",
       "      <th>10</th>\n",
       "      <td>Percent Non-Hispanic White</td>\n",
       "      <td>0.716</td>\n",
       "      <td>0.601</td>\n",
       "      <td>0.023</td>\n",
       "      <td>0.441</td>\n",
       "      <td>0.261</td>\n",
       "      <td>0.009</td>\n",
       "    </tr>\n",
       "    <tr>\n",
       "      <th>11</th>\n",
       "      <td>Percent Hispanic or Latino</td>\n",
       "      <td>0.116</td>\n",
       "      <td>0.136</td>\n",
       "      <td>0.969</td>\n",
       "      <td>0.273</td>\n",
       "      <td>0.295</td>\n",
       "      <td>0.988</td>\n",
       "    </tr>\n",
       "  </tbody>\n",
       "</table>\n",
       "</div>"
      ],
      "text/plain": [
       "                                             Variable  \\\n",
       "0                                Urban Heuristic Flag   \n",
       "1   Percent of individuals below 200% Federal Pove...   \n",
       "2   Percent individuals age 25 or over with less t...   \n",
       "3                              Unemployment (percent)   \n",
       "4       Percent of households in linguistic isolation   \n",
       "5             Percent Black or African American alone   \n",
       "6     Percent American Indian and Alaska Native alone   \n",
       "7                                 Percent Asian alone   \n",
       "8     Percent Native Hawaiian and Other Pacific alone   \n",
       "9                           Percent Two or more races   \n",
       "10                         Percent Non-Hispanic White   \n",
       "11                         Percent Hispanic or Latino   \n",
       "\n",
       "    Not CEJST, Not Comparator  Not CEJST, Comparator  \\\n",
       "0                       0.790                  0.811   \n",
       "1                       0.234                  0.381   \n",
       "2                       0.081                  0.134   \n",
       "3                       0.044                  0.066   \n",
       "4                       0.025                  0.043   \n",
       "5                       0.084                  0.192   \n",
       "6                       0.006                  0.010   \n",
       "7                       0.054                  0.043   \n",
       "8                       0.002                  0.001   \n",
       "9                       0.032                  0.027   \n",
       "10                      0.716                  0.601   \n",
       "11                      0.116                  0.136   \n",
       "\n",
       "    Not CEJST, No Comparator classification  CEJST, Not Comparator  \\\n",
       "0                                     0.600                  0.827   \n",
       "1                                     0.466                  0.493   \n",
       "2                                     0.087                  0.210   \n",
       "3                                     0.109                  0.081   \n",
       "4                                     0.239                  0.083   \n",
       "5                                     0.078                  0.210   \n",
       "6                                     0.002                  0.012   \n",
       "7                                     0.007                  0.045   \n",
       "8                                     0.000                  0.002   \n",
       "9                                     0.049                  0.035   \n",
       "10                                    0.023                  0.441   \n",
       "11                                    0.969                  0.273   \n",
       "\n",
       "    CEJST, Comparator  CEJST, No Comparator classification  \n",
       "0               0.871                                  NaN  \n",
       "1               0.601                                0.756  \n",
       "2               0.263                                0.252  \n",
       "3               0.108                                0.181  \n",
       "4               0.111                                0.708  \n",
       "5               0.375                                0.120  \n",
       "6               0.028                                0.002  \n",
       "7               0.033                                0.002  \n",
       "8               0.001                                0.000  \n",
       "9               0.030                                0.056  \n",
       "10              0.261                                0.009  \n",
       "11              0.295                                0.988  "
      ]
     },
     "execution_count": 13,
     "metadata": {},
     "output_type": "execute_result"
    }
   ],
   "source": [
    "tract_level_by_grouping_formatted_df"
   ]
  },
  {
   "cell_type": "markdown",
   "id": "372ac341-b03b-404a-9462-5087b88579b7",
   "metadata": {
    "papermill": {
     "duration": 0.025637,
     "end_time": "2022-03-31T15:19:27.685522",
     "exception": false,
     "start_time": "2022-03-31T15:19:27.659885",
     "status": "completed"
    },
    "tags": []
   },
   "source": [
    "## Population-weighted stats"
   ]
  },
  {
   "cell_type": "code",
   "execution_count": 14,
   "id": "d172e3c8-60ab-44f0-8034-dda69f1146da",
   "metadata": {
    "execution": {
     "iopub.execute_input": "2022-03-31T15:19:27.740849Z",
     "iopub.status.busy": "2022-03-31T15:19:27.740587Z",
     "iopub.status.idle": "2022-03-31T15:19:27.954048Z",
     "shell.execute_reply": "2022-03-31T15:19:27.952980Z"
    },
    "papermill": {
     "duration": 0.245317,
     "end_time": "2022-03-31T15:19:27.956913",
     "exception": false,
     "start_time": "2022-03-31T15:19:27.711596",
     "status": "completed"
    },
    "tags": []
   },
   "outputs": [],
   "source": [
    "#papermill_description=Population_stats\n",
    "population_weighted_stats_df = pd.concat(\n",
    "    [\n",
    "        utils.construct_weighted_statistics(\n",
    "            input_df=joined_df,\n",
    "            weighting_column=COMPARATOR_COLUMN,\n",
    "            demographic_columns=DEMOGRAPHIC_COLUMNS + ADDITIONAL_DEMO_COLUMNS,\n",
    "            population_column=TOTAL_POPULATION_COLUMN,\n",
    "        ),\n",
    "        utils.construct_weighted_statistics(\n",
    "            input_df=joined_df,\n",
    "            weighting_column=SCORE_COLUMN,\n",
    "            demographic_columns=DEMOGRAPHIC_COLUMNS + ADDITIONAL_DEMO_COLUMNS,\n",
    "            population_column=TOTAL_POPULATION_COLUMN,\n",
    "        ),\n",
    "    ],\n",
    "    axis=1,\n",
    ")"
   ]
  },
  {
   "cell_type": "code",
   "execution_count": 15,
   "id": "33c96e68",
   "metadata": {
    "execution": {
     "iopub.execute_input": "2022-03-31T15:19:28.017596Z",
     "iopub.status.busy": "2022-03-31T15:19:28.017285Z",
     "iopub.status.idle": "2022-03-31T15:19:28.028515Z",
     "shell.execute_reply": "2022-03-31T15:19:28.027840Z"
    },
    "papermill": {
     "duration": 0.044627,
     "end_time": "2022-03-31T15:19:28.030593",
     "exception": false,
     "start_time": "2022-03-31T15:19:27.985966",
     "status": "completed"
    },
    "tags": []
   },
   "outputs": [
    {
     "data": {
      "text/html": [
       "<div>\n",
       "<style scoped>\n",
       "    .dataframe tbody tr th:only-of-type {\n",
       "        vertical-align: middle;\n",
       "    }\n",
       "\n",
       "    .dataframe tbody tr th {\n",
       "        vertical-align: top;\n",
       "    }\n",
       "\n",
       "    .dataframe thead th {\n",
       "        text-align: right;\n",
       "    }\n",
       "</style>\n",
       "<table border=\"1\" class=\"dataframe\">\n",
       "  <thead>\n",
       "    <tr style=\"text-align: right;\">\n",
       "      <th></th>\n",
       "      <th>not three_factor_dac_10_pct</th>\n",
       "      <th>three_factor_dac_10_pct</th>\n",
       "      <th>not Definition M (communities)</th>\n",
       "      <th>Definition M (communities)</th>\n",
       "    </tr>\n",
       "  </thead>\n",
       "  <tbody>\n",
       "    <tr>\n",
       "      <th>Percent Black or African American alone</th>\n",
       "      <td>0.111</td>\n",
       "      <td>0.301</td>\n",
       "      <td>0.089</td>\n",
       "      <td>0.223</td>\n",
       "    </tr>\n",
       "    <tr>\n",
       "      <th>Percent American Indian and Alaska Native alone</th>\n",
       "      <td>0.007</td>\n",
       "      <td>0.024</td>\n",
       "      <td>0.006</td>\n",
       "      <td>0.015</td>\n",
       "    </tr>\n",
       "    <tr>\n",
       "      <th>Percent Asian alone</th>\n",
       "      <td>0.057</td>\n",
       "      <td>0.037</td>\n",
       "      <td>0.059</td>\n",
       "      <td>0.044</td>\n",
       "    </tr>\n",
       "    <tr>\n",
       "      <th>Percent Native Hawaiian and Other Pacific alone</th>\n",
       "      <td>0.002</td>\n",
       "      <td>0.001</td>\n",
       "      <td>0.002</td>\n",
       "      <td>0.002</td>\n",
       "    </tr>\n",
       "    <tr>\n",
       "      <th>Percent Two or more races</th>\n",
       "      <td>0.033</td>\n",
       "      <td>0.029</td>\n",
       "      <td>0.033</td>\n",
       "      <td>0.034</td>\n",
       "    </tr>\n",
       "    <tr>\n",
       "      <th>Percent Non-Hispanic White</th>\n",
       "      <td>0.634</td>\n",
       "      <td>0.308</td>\n",
       "      <td>0.696</td>\n",
       "      <td>0.362</td>\n",
       "    </tr>\n",
       "    <tr>\n",
       "      <th>Percent Hispanic or Latino</th>\n",
       "      <td>0.167</td>\n",
       "      <td>0.321</td>\n",
       "      <td>0.126</td>\n",
       "      <td>0.345</td>\n",
       "    </tr>\n",
       "    <tr>\n",
       "      <th>Urban Heuristic Flag</th>\n",
       "      <td>0.825</td>\n",
       "      <td>0.868</td>\n",
       "      <td>0.819</td>\n",
       "      <td>0.823</td>\n",
       "    </tr>\n",
       "    <tr>\n",
       "      <th>Percent of individuals below 200% Federal Poverty Line</th>\n",
       "      <td>0.289</td>\n",
       "      <td>0.556</td>\n",
       "      <td>0.233</td>\n",
       "      <td>0.520</td>\n",
       "    </tr>\n",
       "    <tr>\n",
       "      <th>Percent individuals age 25 or over with less than high school degree</th>\n",
       "      <td>0.112</td>\n",
       "      <td>0.252</td>\n",
       "      <td>0.082</td>\n",
       "      <td>0.232</td>\n",
       "    </tr>\n",
       "    <tr>\n",
       "      <th>Unemployment (percent)</th>\n",
       "      <td>0.052</td>\n",
       "      <td>0.094</td>\n",
       "      <td>0.044</td>\n",
       "      <td>0.086</td>\n",
       "    </tr>\n",
       "    <tr>\n",
       "      <th>Percent of households in linguistic isolation</th>\n",
       "      <td>0.042</td>\n",
       "      <td>0.119</td>\n",
       "      <td>0.028</td>\n",
       "      <td>0.124</td>\n",
       "    </tr>\n",
       "  </tbody>\n",
       "</table>\n",
       "</div>"
      ],
      "text/plain": [
       "                                                    not three_factor_dac_10_pct  \\\n",
       "Percent Black or African American alone                                   0.111   \n",
       "Percent American Indian and Alaska Native alone                           0.007   \n",
       "Percent Asian alone                                                       0.057   \n",
       "Percent Native Hawaiian and Other Pacific alone                           0.002   \n",
       "Percent Two or more races                                                 0.033   \n",
       "Percent Non-Hispanic White                                                0.634   \n",
       "Percent Hispanic or Latino                                                0.167   \n",
       "Urban Heuristic Flag                                                      0.825   \n",
       "Percent of individuals below 200% Federal Pover...                        0.289   \n",
       "Percent individuals age 25 or over with less th...                        0.112   \n",
       "Unemployment (percent)                                                    0.052   \n",
       "Percent of households in linguistic isolation                             0.042   \n",
       "\n",
       "                                                    three_factor_dac_10_pct  \\\n",
       "Percent Black or African American alone                               0.301   \n",
       "Percent American Indian and Alaska Native alone                       0.024   \n",
       "Percent Asian alone                                                   0.037   \n",
       "Percent Native Hawaiian and Other Pacific alone                       0.001   \n",
       "Percent Two or more races                                             0.029   \n",
       "Percent Non-Hispanic White                                            0.308   \n",
       "Percent Hispanic or Latino                                            0.321   \n",
       "Urban Heuristic Flag                                                  0.868   \n",
       "Percent of individuals below 200% Federal Pover...                    0.556   \n",
       "Percent individuals age 25 or over with less th...                    0.252   \n",
       "Unemployment (percent)                                                0.094   \n",
       "Percent of households in linguistic isolation                         0.119   \n",
       "\n",
       "                                                    not Definition M (communities)  \\\n",
       "Percent Black or African American alone                                      0.089   \n",
       "Percent American Indian and Alaska Native alone                              0.006   \n",
       "Percent Asian alone                                                          0.059   \n",
       "Percent Native Hawaiian and Other Pacific alone                              0.002   \n",
       "Percent Two or more races                                                    0.033   \n",
       "Percent Non-Hispanic White                                                   0.696   \n",
       "Percent Hispanic or Latino                                                   0.126   \n",
       "Urban Heuristic Flag                                                         0.819   \n",
       "Percent of individuals below 200% Federal Pover...                           0.233   \n",
       "Percent individuals age 25 or over with less th...                           0.082   \n",
       "Unemployment (percent)                                                       0.044   \n",
       "Percent of households in linguistic isolation                                0.028   \n",
       "\n",
       "                                                    Definition M (communities)  \n",
       "Percent Black or African American alone                                  0.223  \n",
       "Percent American Indian and Alaska Native alone                          0.015  \n",
       "Percent Asian alone                                                      0.044  \n",
       "Percent Native Hawaiian and Other Pacific alone                          0.002  \n",
       "Percent Two or more races                                                0.034  \n",
       "Percent Non-Hispanic White                                               0.362  \n",
       "Percent Hispanic or Latino                                               0.345  \n",
       "Urban Heuristic Flag                                                     0.823  \n",
       "Percent of individuals below 200% Federal Pover...                       0.520  \n",
       "Percent individuals age 25 or over with less th...                       0.232  \n",
       "Unemployment (percent)                                                   0.086  \n",
       "Percent of households in linguistic isolation                            0.124  "
      ]
     },
     "execution_count": 15,
     "metadata": {},
     "output_type": "execute_result"
    }
   ],
   "source": [
    "population_weighted_stats_df"
   ]
  },
  {
   "cell_type": "markdown",
   "id": "751d2d21",
   "metadata": {
    "papermill": {
     "duration": 0.035337,
     "end_time": "2022-03-31T15:19:28.096572",
     "exception": false,
     "start_time": "2022-03-31T15:19:28.061235",
     "status": "completed"
    },
    "tags": []
   },
   "source": [
    "## Final information about overlap"
   ]
  },
  {
   "cell_type": "code",
   "execution_count": 16,
   "id": "9eef9447",
   "metadata": {
    "execution": {
     "iopub.execute_input": "2022-03-31T15:19:28.145827Z",
     "iopub.status.busy": "2022-03-31T15:19:28.145497Z",
     "iopub.status.idle": "2022-03-31T15:19:28.297878Z",
     "shell.execute_reply": "2022-03-31T15:19:28.296598Z"
    },
    "papermill": {
     "duration": 0.178087,
     "end_time": "2022-03-31T15:19:28.300967",
     "exception": false,
     "start_time": "2022-03-31T15:19:28.122880",
     "status": "completed"
    },
    "tags": []
   },
   "outputs": [],
   "source": [
    "comparator_and_cejst_proportion_series, states = utils.get_final_summary_info(\n",
    "    population=population_df,\n",
    "    comparator_file=COMPARATOR_FILE,\n",
    "    geoid_col=GEOID_COLUMN\n",
    ")"
   ]
  },
  {
   "cell_type": "code",
   "execution_count": 17,
   "id": "2c45e7b6",
   "metadata": {
    "execution": {
     "iopub.execute_input": "2022-03-31T15:19:28.358596Z",
     "iopub.status.busy": "2022-03-31T15:19:28.358252Z",
     "iopub.status.idle": "2022-03-31T15:19:28.364370Z",
     "shell.execute_reply": "2022-03-31T15:19:28.363657Z"
    },
    "papermill": {
     "duration": 0.03743,
     "end_time": "2022-03-31T15:19:28.367397",
     "exception": false,
     "start_time": "2022-03-31T15:19:28.329967",
     "status": "completed"
    },
    "tags": []
   },
   "outputs": [
    {
     "data": {
      "text/plain": [
       "'States included in comparator: AL, AK, AZ, AR, CA, CO, CT, DE, DC, FL, GA, HI, ID, IL, IN, IA, KS, KY, LA, ME, MD, MA, MI, MN, MS, MO, MT, NE, NV, NH, NJ, NM, NY, NC, ND, OH, OK, OR, PA, RI, SC, SD, TN, TX, UT, VT, VA, WA, WV, WI, WY'"
      ]
     },
     "execution_count": 17,
     "metadata": {},
     "output_type": "execute_result"
    }
   ],
   "source": [
    "states_text = \"States included in comparator: \" + states\n",
    "states_text"
   ]
  },
  {
   "cell_type": "markdown",
   "id": "a9fb4dfa-876d-4f25-9552-9831f51ec05c",
   "metadata": {
    "papermill": {
     "duration": 0.027041,
     "end_time": "2022-03-31T15:19:28.421209",
     "exception": false,
     "start_time": "2022-03-31T15:19:28.394168",
     "status": "completed"
    },
    "tags": []
   },
   "source": [
    "## Print to excel"
   ]
  },
  {
   "cell_type": "code",
   "execution_count": 18,
   "id": "67e2c71e-68af-44b4-bab0-33bc54afe7a4",
   "metadata": {
    "execution": {
     "iopub.execute_input": "2022-03-31T15:19:28.475328Z",
     "iopub.status.busy": "2022-03-31T15:19:28.475064Z",
     "iopub.status.idle": "2022-03-31T15:19:28.517223Z",
     "shell.execute_reply": "2022-03-31T15:19:28.516351Z"
    },
    "papermill": {
     "duration": 0.070698,
     "end_time": "2022-03-31T15:19:28.519982",
     "exception": false,
     "start_time": "2022-03-31T15:19:28.449284",
     "status": "completed"
    },
    "tags": []
   },
   "outputs": [],
   "source": [
    "#papermill_description=Writing_excel\n",
    "utils.write_single_comparison_excel(\n",
    "    output_excel=OUTPUT_EXCEL,\n",
    "    population_df=population_df,\n",
    "    tract_level_by_identification_df=tract_level_by_identification_df,\n",
    "    population_weighted_stats_df=population_weighted_stats_df,\n",
    "    tract_level_by_grouping_formatted_df=tract_level_by_grouping_formatted_df,\n",
    "    comparator_and_cejst_proportion_series=comparator_and_cejst_proportion_series,\n",
    "    states_text=states_text\n",
    ")"
   ]
  }
 ],
 "metadata": {
  "kernelspec": {
   "display_name": "Python 3 (ipykernel)",
   "language": "python",
   "name": "python3"
  },
  "language_info": {
   "codemirror_mode": {
    "name": "ipython",
    "version": 3
   },
   "file_extension": ".py",
   "mimetype": "text/x-python",
   "name": "python",
   "nbconvert_exporter": "python",
   "pygments_lexer": "ipython3",
   "version": "3.9.10"
  },
  "papermill": {
   "default_parameters": {},
   "duration": 11.395857,
   "end_time": "2022-03-31T15:19:29.067821",
   "environment_variables": {},
   "exception": null,
   "input_path": "src/tract_comparison__template.ipynb",
   "output_path": "/Users/emmausds/Desktop/justice40-tool/data/data-pipeline/data_pipeline/comparison_tool/output/cre_ten_pct/cre_ten_pct__tract_comparison__2022-03-31.ipynb",
   "parameters": {
    "ADDITIONAL_DEMO_COLUMNS": [
     "Urban Heuristic Flag",
     "Percent of individuals below 200% Federal Poverty Line",
     "Percent individuals age 25 or over with less than high school degree",
     "Unemployment (percent)",
     "Percent of households in linguistic isolation"
    ],
    "COMPARATOR_COLUMN": "three_factor_dac_10_pct",
    "COMPARATOR_FILE": "/Users/emmausds/Desktop/justice40-tool/data/data-pipeline/data_pipeline/comparison_tool/data/community_resilience_estimates/clean/cre_clean.csv",
    "DEMOGRAPHIC_COLUMNS": [
     "Percent Black or African American alone",
     "Percent American Indian and Alaska Native alone",
     "Percent Asian alone",
     "Percent Native Hawaiian and Other Pacific alone",
     "Percent Two or more races",
     "Percent Non-Hispanic White",
     "Percent Hispanic or Latino"
    ],
    "DEMOGRAPHIC_FILE": "/Users/emmausds/Desktop/justice40-tool/data/data-pipeline/data_pipeline/data/dataset/census_acs_2019/usa.csv",
    "KEEP_MISSING_VALUES_FOR_SEGMENTATION": true,
    "OTHER_COMPARATOR_COLUMNS": [
     "one_two_factor_dac_10_pct",
     "three_factor_dac",
     "one_two_factor_dac",
     "PRED3_PE",
     "PRED12_PE"
    ],
    "OUTPUT_DATA_PATH": "/Users/emmausds/Desktop/justice40-tool/data/data-pipeline/data_pipeline/comparison_tool/output/cre_ten_pct",
    "OUTPUT_NAME": "cre_ten_pct",
    "SCORE_FILE": "/Users/emmausds/Desktop/justice40-tool/data/data-pipeline/data_pipeline/data/score/csv/full/usa.csv"
   },
   "start_time": "2022-03-31T15:19:17.671964",
   "version": "2.3.4"
  }
 },
 "nbformat": 4,
 "nbformat_minor": 5
}