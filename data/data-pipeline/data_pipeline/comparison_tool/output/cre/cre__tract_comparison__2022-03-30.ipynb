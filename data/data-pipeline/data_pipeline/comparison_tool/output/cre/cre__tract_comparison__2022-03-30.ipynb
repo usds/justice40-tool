{
 "cells": [
  {
   "cell_type": "code",
   "execution_count": 1,
   "id": "81788485-12d4-41f4-b5db-aa4874a32501",
   "metadata": {
    "papermill": {
     "duration": 2.38402,
     "end_time": "2022-03-30T22:03:35.850641",
     "exception": false,
     "start_time": "2022-03-30T22:03:33.466621",
     "status": "completed"
    },
    "tags": []
   },
   "outputs": [],
   "source": [
    "import pandas as pd\n",
    "import numpy as np\n",
    "import os\n",
    "import datetime\n",
    "import sys\n",
    "import seaborn as sns\n",
    "import matplotlib.pyplot as plt\n",
    "\n",
    "sys.path.append(\"../../../../\")\n",
    "\n",
    "from data_pipeline.score import field_names\n",
    "from data_pipeline.comparison_tool.src import utils\n",
    "\n",
    "pd.options.display.float_format = \"{:,.3f}\".format\n",
    "%load_ext lab_black"
   ]
  },
  {
   "cell_type": "markdown",
   "id": "2820ead7-981d-40e0-8a07-80f9f1c48b9c",
   "metadata": {
    "papermill": {
     "duration": 0.014935,
     "end_time": "2022-03-30T22:03:35.881147",
     "exception": false,
     "start_time": "2022-03-30T22:03:35.866212",
     "status": "completed"
    },
    "tags": []
   },
   "source": [
    "# Comparator definition comparison\n",
    "\n",
    "This notebook answers a few questions:\n",
    "1. How many tracts are flagged and what's the size of overlap by comparator?\n",
    "2. What are the demographics of each set of tracts by \"category\" of score (CEJST but not comparator, comparator but not CEJST, CEJST and comparator)?\n",
    "3. What are the overall demographics of ALL comparator vs ALL CEJST?\n",
    "\n",
    "It produces a single Excel file of the stats listed, but is interactive even after run-time. This notebook focuses on 1:1 comparison. It can be pointed in the YAML to either a simple output (tract and boolean for highlight) or to the output from an ETL."
   ]
  },
  {
   "cell_type": "code",
   "execution_count": 2,
   "id": "2093584e-312b-44f7-87d7-6099d9fe000f",
   "metadata": {
    "papermill": {
     "duration": 0.02538,
     "end_time": "2022-03-30T22:03:35.922494",
     "exception": false,
     "start_time": "2022-03-30T22:03:35.897114",
     "status": "completed"
    },
    "tags": [
     "parameters"
    ]
   },
   "outputs": [],
   "source": [
    "## These are parameters and get overridden by the \"injected parameters\" cell below\n",
    "ADDITIONAL_DEMO_COLUMNS = []\n",
    "COMPARATOR_COLUMN = None\n",
    "COMPARATOR_FILE = None\n",
    "DEMOGRAPHIC_COLUMNS = []\n",
    "DEMOGRAPHIC_FILE = None\n",
    "OUTPUT_DATA_PATH = None\n",
    "SCORE_FILE = None\n",
    "OTHER_COMPARATOR_COLUMNS = None\n",
    "OUTPUT_NAME = None\n",
    "KEEP_MISSING_VALUES_FOR_SEGMENTATION = True"
   ]
  },
  {
   "cell_type": "code",
   "execution_count": 3,
   "id": "ac80441f",
   "metadata": {
    "papermill": {
     "duration": 0.03077,
     "end_time": "2022-03-30T22:03:35.968966",
     "exception": false,
     "start_time": "2022-03-30T22:03:35.938196",
     "status": "completed"
    },
    "tags": [
     "injected-parameters"
    ]
   },
   "outputs": [],
   "source": [
    "# Parameters\n",
    "ADDITIONAL_DEMO_COLUMNS = [\n",
    "    \"Urban Heuristic Flag\",\n",
    "    \"Percent of individuals below 200% Federal Poverty Line\",\n",
    "    \"Percent individuals age 25 or over with less than high school degree\",\n",
    "    \"Unemployment (percent)\",\n",
    "    \"Percent of households in linguistic isolation\",\n",
    "]\n",
    "COMPARATOR_COLUMN = \"three_factor_dac\"\n",
    "COMPARATOR_FILE = \"/Users/emmausds/Desktop/justice40-tool/data/data-pipeline/data_pipeline/comparison_tool/data/community_resilience_estimates/clean/cre_clean.csv\"\n",
    "DEMOGRAPHIC_COLUMNS = [\n",
    "    \"Percent Black or African American alone\",\n",
    "    \"Percent American Indian and Alaska Native alone\",\n",
    "    \"Percent Asian alone\",\n",
    "    \"Percent Native Hawaiian and Other Pacific alone\",\n",
    "    \"Percent Two or more races\",\n",
    "    \"Percent Non-Hispanic White\",\n",
    "    \"Percent Hispanic or Latino\",\n",
    "]\n",
    "DEMOGRAPHIC_FILE = \"/Users/emmausds/Desktop/justice40-tool/data/data-pipeline/data_pipeline/data/dataset/census_acs_2019/usa.csv\"\n",
    "OUTPUT_DATA_PATH = \"/Users/emmausds/Desktop/justice40-tool/data/data-pipeline/data_pipeline/comparison_tool/output/cre\"\n",
    "SCORE_FILE = \"/Users/emmausds/Desktop/justice40-tool/data/data-pipeline/data_pipeline/data/score/csv/full/usa.csv\"\n",
    "KEEP_MISSING_VALUES_FOR_SEGMENTATION = True\n",
    "OTHER_COMPARATOR_COLUMNS = [\"one_two_factor_dac\", \"PRED3_PE\", \"PRED12_PE\"]\n",
    "OUTPUT_NAME = \"cre\""
   ]
  },
  {
   "cell_type": "code",
   "execution_count": 4,
   "id": "bd38aaaa",
   "metadata": {
    "papermill": {
     "duration": 0.02413,
     "end_time": "2022-03-30T22:03:36.008084",
     "exception": false,
     "start_time": "2022-03-30T22:03:35.983954",
     "status": "completed"
    },
    "tags": []
   },
   "outputs": [],
   "source": [
    "## These are constants for all runs\n",
    "GEOID_COLUMN = field_names.GEOID_TRACT_FIELD\n",
    "SCORE_COLUMN = field_names.SCORE_M_COMMUNITIES\n",
    "TOTAL_POPULATION_COLUMN = field_names.TOTAL_POP_FIELD"
   ]
  },
  {
   "cell_type": "markdown",
   "id": "8a3940be",
   "metadata": {
    "papermill": {
     "duration": 0.022049,
     "end_time": "2022-03-30T22:03:36.078099",
     "exception": false,
     "start_time": "2022-03-30T22:03:36.056050",
     "status": "completed"
    },
    "tags": []
   },
   "source": [
    "__Date and time of last run__"
   ]
  },
  {
   "cell_type": "code",
   "execution_count": 5,
   "id": "5f19a1e3-fe05-425d-9160-4d4e193fadf7",
   "metadata": {
    "papermill": {
     "duration": 0.026705,
     "end_time": "2022-03-30T22:03:36.124847",
     "exception": false,
     "start_time": "2022-03-30T22:03:36.098142",
     "status": "completed"
    },
    "tags": []
   },
   "outputs": [
    {
     "data": {
      "text/plain": [
       "datetime.datetime(2022, 3, 30, 18, 11, 22, 701775)"
      ]
     },
     "execution_count": 5,
     "metadata": {},
     "output_type": "execute_result"
    }
   ],
   "source": [
    "datetime.datetime.now()"
   ]
  },
  {
   "cell_type": "markdown",
   "id": "269b0f06-edee-4fce-8755-a8e7fe92e340",
   "metadata": {
    "papermill": {
     "duration": 0.01586,
     "end_time": "2022-03-30T22:03:36.158961",
     "exception": false,
     "start_time": "2022-03-30T22:03:36.143101",
     "status": "completed"
    },
    "tags": []
   },
   "source": [
    "__Congfigure output (autocreated)__"
   ]
  },
  {
   "cell_type": "code",
   "execution_count": 6,
   "id": "acace944-18fa-4b05-a581-8147e8e09299",
   "metadata": {
    "papermill": {
     "duration": 0.024136,
     "end_time": "2022-03-30T22:03:36.198450",
     "exception": false,
     "start_time": "2022-03-30T22:03:36.174314",
     "status": "completed"
    },
    "tags": []
   },
   "outputs": [],
   "source": [
    "OUTPUT_EXCEL = os.path.join(\n",
    "    OUTPUT_DATA_PATH,\n",
    "    f\"{OUTPUT_NAME}__{datetime.datetime.now().strftime('%Y-%m-%d')}.xlsx\",\n",
    ")"
   ]
  },
  {
   "cell_type": "markdown",
   "id": "806b8a7a",
   "metadata": {
    "papermill": {
     "duration": 0.015651,
     "end_time": "2022-03-30T22:03:36.229931",
     "exception": false,
     "start_time": "2022-03-30T22:03:36.214280",
     "status": "completed"
    },
    "tags": []
   },
   "source": [
    "__Validate new data__"
   ]
  },
  {
   "cell_type": "code",
   "execution_count": 7,
   "id": "0d089469",
   "metadata": {
    "papermill": {
     "duration": 0.026645,
     "end_time": "2022-03-30T22:03:36.272739",
     "exception": false,
     "start_time": "2022-03-30T22:03:36.246094",
     "status": "completed"
    },
    "tags": []
   },
   "outputs": [],
   "source": [
    "utils.validate_new_data(file_path=COMPARATOR_FILE, score_col=COMPARATOR_COLUMN)"
   ]
  },
  {
   "cell_type": "markdown",
   "id": "f5517217-f107-4fee-b4ca-be61f6b2b7c3",
   "metadata": {
    "papermill": {
     "duration": 0.017206,
     "end_time": "2022-03-30T22:03:36.305063",
     "exception": false,
     "start_time": "2022-03-30T22:03:36.287857",
     "status": "completed"
    },
    "tags": []
   },
   "source": [
    "__Read in data__"
   ]
  },
  {
   "cell_type": "code",
   "execution_count": 8,
   "id": "cdefecf2-100b-4ad2-b0bd-101c0bad5a92",
   "metadata": {
    "papermill": {
     "duration": 2.668584,
     "end_time": "2022-03-30T22:03:38.990179",
     "exception": false,
     "start_time": "2022-03-30T22:03:36.321595",
     "status": "completed"
    },
    "tags": []
   },
   "outputs": [],
   "source": [
    "comparator_cols = (\n",
    "    [COMPARATOR_COLUMN] + OTHER_COMPARATOR_COLUMNS\n",
    "    if OTHER_COMPARATOR_COLUMNS\n",
    "    else [COMPARATOR_COLUMN]\n",
    ")\n",
    "\n",
    "# papermill_description=Loading_data\n",
    "joined_df = pd.concat(\n",
    "    [\n",
    "        utils.read_file(\n",
    "            file_path=SCORE_FILE,\n",
    "            columns=[TOTAL_POPULATION_COLUMN, SCORE_COLUMN] + ADDITIONAL_DEMO_COLUMNS,\n",
    "            geoid=GEOID_COLUMN,\n",
    "        ),\n",
    "        utils.read_file(\n",
    "            file_path=COMPARATOR_FILE, columns=comparator_cols, geoid=GEOID_COLUMN\n",
    "        ),\n",
    "        utils.read_file(\n",
    "            file_path=DEMOGRAPHIC_FILE,\n",
    "            columns=DEMOGRAPHIC_COLUMNS,\n",
    "            geoid=GEOID_COLUMN,\n",
    "        ),\n",
    "    ],\n",
    "    axis=1,\n",
    ").reset_index()"
   ]
  },
  {
   "cell_type": "markdown",
   "id": "da71a62c-9c2c-46bd-815f-37cdb9ca18a1",
   "metadata": {
    "papermill": {
     "duration": 0.01594,
     "end_time": "2022-03-30T22:03:39.023181",
     "exception": false,
     "start_time": "2022-03-30T22:03:39.007241",
     "status": "completed"
    },
    "tags": []
   },
   "source": [
    "## High-level summary"
   ]
  },
  {
   "cell_type": "markdown",
   "id": "bfaf9912-1ffe-49e7-a38a-2f815b07826d",
   "metadata": {
    "papermill": {
     "duration": 0.01645,
     "end_time": "2022-03-30T22:03:39.055166",
     "exception": false,
     "start_time": "2022-03-30T22:03:39.038716",
     "status": "completed"
    },
    "tags": []
   },
   "source": [
    "What *shares* of tracts and population highlighted by the comparator are covered by CEJST?"
   ]
  },
  {
   "cell_type": "code",
   "execution_count": 9,
   "id": "93d2990c-edc0-404b-aeea-b62e3ca7b308",
   "metadata": {
    "papermill": {
     "duration": 0.096833,
     "end_time": "2022-03-30T22:03:39.167388",
     "exception": false,
     "start_time": "2022-03-30T22:03:39.070555",
     "status": "completed"
    },
    "tags": []
   },
   "outputs": [
    {
     "data": {
      "text/html": [
       "<div>\n",
       "<style scoped>\n",
       "    .dataframe tbody tr th:only-of-type {\n",
       "        vertical-align: middle;\n",
       "    }\n",
       "\n",
       "    .dataframe tbody tr th {\n",
       "        vertical-align: top;\n",
       "    }\n",
       "\n",
       "    .dataframe thead th {\n",
       "        text-align: right;\n",
       "    }\n",
       "</style>\n",
       "<table border=\"1\" class=\"dataframe\">\n",
       "  <thead>\n",
       "    <tr style=\"text-align: right;\">\n",
       "      <th></th>\n",
       "      <th></th>\n",
       "      <th>Population</th>\n",
       "      <th>Count of tracts</th>\n",
       "      <th>Share of tracts</th>\n",
       "      <th>Share of population</th>\n",
       "    </tr>\n",
       "    <tr>\n",
       "      <th>three_factor_dac</th>\n",
       "      <th>Definition M (communities)</th>\n",
       "      <th></th>\n",
       "      <th></th>\n",
       "      <th></th>\n",
       "      <th></th>\n",
       "    </tr>\n",
       "  </thead>\n",
       "  <tbody>\n",
       "    <tr>\n",
       "      <th rowspan=\"2\" valign=\"top\">False</th>\n",
       "      <th>False</th>\n",
       "      <td>202,342,753.000</td>\n",
       "      <td>42890</td>\n",
       "      <td>0.578</td>\n",
       "      <td>0.620</td>\n",
       "    </tr>\n",
       "    <tr>\n",
       "      <th>True</th>\n",
       "      <td>35,275,812.000</td>\n",
       "      <td>8254</td>\n",
       "      <td>0.111</td>\n",
       "      <td>0.108</td>\n",
       "    </tr>\n",
       "    <tr>\n",
       "      <th rowspan=\"2\" valign=\"top\">True</th>\n",
       "      <th>False</th>\n",
       "      <td>30,247,537.000</td>\n",
       "      <td>7563</td>\n",
       "      <td>0.102</td>\n",
       "      <td>0.093</td>\n",
       "    </tr>\n",
       "    <tr>\n",
       "      <th>True</th>\n",
       "      <td>55,036,928.000</td>\n",
       "      <td>14349</td>\n",
       "      <td>0.193</td>\n",
       "      <td>0.169</td>\n",
       "    </tr>\n",
       "    <tr>\n",
       "      <th rowspan=\"2\" valign=\"top\">missing</th>\n",
       "      <th>False</th>\n",
       "      <td>200,672.000</td>\n",
       "      <td>230</td>\n",
       "      <td>0.003</td>\n",
       "      <td>0.001</td>\n",
       "    </tr>\n",
       "    <tr>\n",
       "      <th>True</th>\n",
       "      <td>3,186,269.000</td>\n",
       "      <td>874</td>\n",
       "      <td>0.012</td>\n",
       "      <td>0.010</td>\n",
       "    </tr>\n",
       "  </tbody>\n",
       "</table>\n",
       "</div>"
      ],
      "text/plain": [
       "                                                 Population  Count of tracts  \\\n",
       "three_factor_dac Definition M (communities)                                    \n",
       "False            False                      202,342,753.000            42890   \n",
       "                 True                        35,275,812.000             8254   \n",
       "True             False                       30,247,537.000             7563   \n",
       "                 True                        55,036,928.000            14349   \n",
       "missing          False                          200,672.000              230   \n",
       "                 True                         3,186,269.000              874   \n",
       "\n",
       "                                             Share of tracts  \\\n",
       "three_factor_dac Definition M (communities)                    \n",
       "False            False                                 0.578   \n",
       "                 True                                  0.111   \n",
       "True             False                                 0.102   \n",
       "                 True                                  0.193   \n",
       "missing          False                                 0.003   \n",
       "                 True                                  0.012   \n",
       "\n",
       "                                             Share of population  \n",
       "three_factor_dac Definition M (communities)                       \n",
       "False            False                                     0.620  \n",
       "                 True                                      0.108  \n",
       "True             False                                     0.093  \n",
       "                 True                                      0.169  \n",
       "missing          False                                     0.001  \n",
       "                 True                                      0.010  "
      ]
     },
     "execution_count": 9,
     "metadata": {},
     "output_type": "execute_result"
    }
   ],
   "source": [
    "# papermill_description=Summary_stats\n",
    "population_df = utils.produce_summary_stats(\n",
    "    joined_df=joined_df,\n",
    "    comparator_column=COMPARATOR_COLUMN,\n",
    "    score_column=SCORE_COLUMN,\n",
    "    population_column=TOTAL_POPULATION_COLUMN,\n",
    "    geoid_column=GEOID_COLUMN,\n",
    ")\n",
    "population_df"
   ]
  },
  {
   "cell_type": "markdown",
   "id": "0c945e85-874d-4f1f-921e-ff2f0de42767",
   "metadata": {
    "papermill": {
     "duration": 0.016295,
     "end_time": "2022-03-30T22:03:39.199021",
     "exception": false,
     "start_time": "2022-03-30T22:03:39.182726",
     "status": "completed"
    },
    "tags": []
   },
   "source": [
    "## Tract-level stats\n",
    "\n",
    "First, this walks through overall stats for disadvantaged communities under the comparator definition and under the CEJST's definition. Next, this walks through stats by group (e.g., CEJST and not comparator). This is at the tract level, so the average across tracts, where tracts are not population-weighted. "
   ]
  },
  {
   "cell_type": "code",
   "execution_count": 10,
   "id": "618d2bac-8800-4fd7-a75d-f4abaae30923",
   "metadata": {
    "papermill": {
     "duration": 0.074006,
     "end_time": "2022-03-30T22:03:39.290955",
     "exception": false,
     "start_time": "2022-03-30T22:03:39.216949",
     "status": "completed"
    },
    "tags": []
   },
   "outputs": [
    {
     "data": {
      "text/html": [
       "<div>\n",
       "<style scoped>\n",
       "    .dataframe tbody tr th:only-of-type {\n",
       "        vertical-align: middle;\n",
       "    }\n",
       "\n",
       "    .dataframe tbody tr th {\n",
       "        vertical-align: top;\n",
       "    }\n",
       "\n",
       "    .dataframe thead th {\n",
       "        text-align: right;\n",
       "    }\n",
       "</style>\n",
       "<table border=\"1\" class=\"dataframe\">\n",
       "  <thead>\n",
       "    <tr style=\"text-align: right;\">\n",
       "      <th></th>\n",
       "      <th>three_factor_dac</th>\n",
       "      <th>Definition M (communities)</th>\n",
       "    </tr>\n",
       "  </thead>\n",
       "  <tbody>\n",
       "    <tr>\n",
       "      <th>Urban Heuristic Flag</th>\n",
       "      <td>0.788</td>\n",
       "      <td>0.839</td>\n",
       "    </tr>\n",
       "    <tr>\n",
       "      <th>Percent of individuals below 200% Federal Poverty Line</th>\n",
       "      <td>0.479</td>\n",
       "      <td>0.530</td>\n",
       "    </tr>\n",
       "    <tr>\n",
       "      <th>Percent individuals age 25 or over with less than high school degree</th>\n",
       "      <td>0.197</td>\n",
       "      <td>0.225</td>\n",
       "    </tr>\n",
       "    <tr>\n",
       "      <th>Unemployment (percent)</th>\n",
       "      <td>0.082</td>\n",
       "      <td>0.091</td>\n",
       "    </tr>\n",
       "    <tr>\n",
       "      <th>Percent of households in linguistic isolation</th>\n",
       "      <td>0.073</td>\n",
       "      <td>0.112</td>\n",
       "    </tr>\n",
       "    <tr>\n",
       "      <th>Percent Black or African American alone</th>\n",
       "      <td>0.249</td>\n",
       "      <td>0.250</td>\n",
       "    </tr>\n",
       "    <tr>\n",
       "      <th>Percent American Indian and Alaska Native alone</th>\n",
       "      <td>0.017</td>\n",
       "      <td>0.016</td>\n",
       "    </tr>\n",
       "    <tr>\n",
       "      <th>Percent Asian alone</th>\n",
       "      <td>0.036</td>\n",
       "      <td>0.040</td>\n",
       "    </tr>\n",
       "    <tr>\n",
       "      <th>Percent Native Hawaiian and Other Pacific alone</th>\n",
       "      <td>0.001</td>\n",
       "      <td>0.002</td>\n",
       "    </tr>\n",
       "    <tr>\n",
       "      <th>Percent Two or more races</th>\n",
       "      <td>0.031</td>\n",
       "      <td>0.034</td>\n",
       "    </tr>\n",
       "    <tr>\n",
       "      <th>Percent Non-Hispanic White</th>\n",
       "      <td>0.458</td>\n",
       "      <td>0.379</td>\n",
       "    </tr>\n",
       "    <tr>\n",
       "      <th>Percent Hispanic or Latino</th>\n",
       "      <td>0.225</td>\n",
       "      <td>0.304</td>\n",
       "    </tr>\n",
       "  </tbody>\n",
       "</table>\n",
       "</div>"
      ],
      "text/plain": [
       "                                                    three_factor_dac  \\\n",
       "Urban Heuristic Flag                                           0.788   \n",
       "Percent of individuals below 200% Federal Pover...             0.479   \n",
       "Percent individuals age 25 or over with less th...             0.197   \n",
       "Unemployment (percent)                                         0.082   \n",
       "Percent of households in linguistic isolation                  0.073   \n",
       "Percent Black or African American alone                        0.249   \n",
       "Percent American Indian and Alaska Native alone                0.017   \n",
       "Percent Asian alone                                            0.036   \n",
       "Percent Native Hawaiian and Other Pacific alone                0.001   \n",
       "Percent Two or more races                                      0.031   \n",
       "Percent Non-Hispanic White                                     0.458   \n",
       "Percent Hispanic or Latino                                     0.225   \n",
       "\n",
       "                                                    Definition M (communities)  \n",
       "Urban Heuristic Flag                                                     0.839  \n",
       "Percent of individuals below 200% Federal Pover...                       0.530  \n",
       "Percent individuals age 25 or over with less th...                       0.225  \n",
       "Unemployment (percent)                                                   0.091  \n",
       "Percent of households in linguistic isolation                            0.112  \n",
       "Percent Black or African American alone                                  0.250  \n",
       "Percent American Indian and Alaska Native alone                          0.016  \n",
       "Percent Asian alone                                                      0.040  \n",
       "Percent Native Hawaiian and Other Pacific alone                          0.002  \n",
       "Percent Two or more races                                                0.034  \n",
       "Percent Non-Hispanic White                                               0.379  \n",
       "Percent Hispanic or Latino                                               0.304  "
      ]
     },
     "execution_count": 10,
     "metadata": {},
     "output_type": "execute_result"
    }
   ],
   "source": [
    "# papermill_description=Tract_stats\n",
    "tract_level_by_identification_df = pd.concat(\n",
    "    [\n",
    "        utils.get_demo_series(\n",
    "            grouping_column=COMPARATOR_COLUMN,\n",
    "            joined_df=joined_df,\n",
    "            demo_columns=ADDITIONAL_DEMO_COLUMNS + DEMOGRAPHIC_COLUMNS,\n",
    "        ),\n",
    "        utils.get_demo_series(\n",
    "            grouping_column=SCORE_COLUMN,\n",
    "            joined_df=joined_df,\n",
    "            demo_columns=ADDITIONAL_DEMO_COLUMNS + DEMOGRAPHIC_COLUMNS,\n",
    "        ),\n",
    "    ],\n",
    "    axis=1,\n",
    ")\n",
    "\n",
    "tract_level_by_identification_df"
   ]
  },
  {
   "cell_type": "code",
   "execution_count": 11,
   "id": "0f37bfa5-5e9e-46d1-97af-8d0e7d53c80b",
   "metadata": {
    "papermill": {
     "duration": 0.604913,
     "end_time": "2022-03-30T22:03:39.913631",
     "exception": false,
     "start_time": "2022-03-30T22:03:39.308718",
     "status": "completed"
    },
    "tags": []
   },
   "outputs": [
    {
     "data": {
      "image/png": "[encoded data removed]",
      "text/plain": [
       "<Figure size 792x792 with 1 Axes>"
      ]
     },
     "metadata": {
      "needs_background": "light"
     },
     "output_type": "display_data"
    }
   ],
   "source": [
    "plt.figure(figsize=(11, 11))\n",
    "sns.barplot(\n",
    "    y=\"Variable\",\n",
    "    x=\"Avg in tracts\",\n",
    "    hue=\"Definition\",\n",
    "    data=tract_level_by_identification_df.sort_values(\n",
    "        by=COMPARATOR_COLUMN, ascending=False\n",
    "    )\n",
    "    .stack()\n",
    "    .reset_index()\n",
    "    .rename(\n",
    "        columns={\"level_0\": \"Variable\", \"level_1\": \"Definition\", 0: \"Avg in tracts\"}\n",
    "    ),\n",
    "    palette=\"Blues\",\n",
    ")\n",
    "plt.xlim(0, 1)\n",
    "plt.title(\"Tract level averages by identification strategy\")\n",
    "plt.savefig(os.path.join(OUTPUT_DATA_PATH, \"tract_lvl_avg.jpg\"), bbox_inches=\"tight\")"
   ]
  },
  {
   "cell_type": "code",
   "execution_count": 12,
   "id": "713f2a04-1b2a-472c-b036-454cd5c9a495",
   "metadata": {
    "papermill": {
     "duration": 0.074688,
     "end_time": "2022-03-30T22:03:40.005980",
     "exception": false,
     "start_time": "2022-03-30T22:03:39.931292",
     "status": "completed"
    },
    "tags": []
   },
   "outputs": [],
   "source": [
    "# papermill_description=Tract_stats_grouped\n",
    "tract_level_by_grouping_df = utils.get_tract_level_grouping(\n",
    "    joined_df=joined_df,\n",
    "    score_column=SCORE_COLUMN,\n",
    "    comparator_column=COMPARATOR_COLUMN,\n",
    "    demo_columns=ADDITIONAL_DEMO_COLUMNS + DEMOGRAPHIC_COLUMNS,\n",
    "    keep_missing_values=KEEP_MISSING_VALUES_FOR_SEGMENTATION,\n",
    ")\n",
    "\n",
    "tract_level_by_grouping_formatted_df = utils.format_multi_index_for_excel(\n",
    "    df=tract_level_by_grouping_df\n",
    ")"
   ]
  },
  {
   "cell_type": "code",
   "execution_count": 13,
   "id": "0d166f53-4242-46f1-aedf-51dac517de94",
   "metadata": {
    "papermill": {
     "duration": 0.029799,
     "end_time": "2022-03-30T22:03:40.053327",
     "exception": false,
     "start_time": "2022-03-30T22:03:40.023528",
     "status": "completed"
    },
    "tags": []
   },
   "outputs": [
    {
     "data": {
      "text/html": [
       "<div>\n",
       "<style scoped>\n",
       "    .dataframe tbody tr th:only-of-type {\n",
       "        vertical-align: middle;\n",
       "    }\n",
       "\n",
       "    .dataframe tbody tr th {\n",
       "        vertical-align: top;\n",
       "    }\n",
       "\n",
       "    .dataframe thead th {\n",
       "        text-align: right;\n",
       "    }\n",
       "</style>\n",
       "<table border=\"1\" class=\"dataframe\">\n",
       "  <thead>\n",
       "    <tr style=\"text-align: right;\">\n",
       "      <th></th>\n",
       "      <th>Variable</th>\n",
       "      <th>Not CEJST, Not Comparator</th>\n",
       "      <th>Not CEJST, Comparator</th>\n",
       "      <th>Not CEJST, No Comparator classification</th>\n",
       "      <th>CEJST, Not Comparator</th>\n",
       "      <th>CEJST, Comparator</th>\n",
       "      <th>CEJST, No Comparator classification</th>\n",
       "    </tr>\n",
       "  </thead>\n",
       "  <tbody>\n",
       "    <tr>\n",
       "      <th>0</th>\n",
       "      <td>Urban Heuristic Flag</td>\n",
       "      <td>0.804</td>\n",
       "      <td>0.713</td>\n",
       "      <td>0.600</td>\n",
       "      <td>0.858</td>\n",
       "      <td>0.828</td>\n",
       "      <td>NaN</td>\n",
       "    </tr>\n",
       "    <tr>\n",
       "      <th>1</th>\n",
       "      <td>Percent of individuals below 200% Federal Pove...</td>\n",
       "      <td>0.222</td>\n",
       "      <td>0.332</td>\n",
       "      <td>0.466</td>\n",
       "      <td>0.466</td>\n",
       "      <td>0.554</td>\n",
       "      <td>0.756</td>\n",
       "    </tr>\n",
       "    <tr>\n",
       "      <th>2</th>\n",
       "      <td>Percent individuals age 25 or over with less t...</td>\n",
       "      <td>0.076</td>\n",
       "      <td>0.117</td>\n",
       "      <td>0.087</td>\n",
       "      <td>0.200</td>\n",
       "      <td>0.239</td>\n",
       "      <td>0.252</td>\n",
       "    </tr>\n",
       "    <tr>\n",
       "      <th>3</th>\n",
       "      <td>Unemployment (percent)</td>\n",
       "      <td>0.043</td>\n",
       "      <td>0.055</td>\n",
       "      <td>0.109</td>\n",
       "      <td>0.074</td>\n",
       "      <td>0.096</td>\n",
       "      <td>0.181</td>\n",
       "    </tr>\n",
       "    <tr>\n",
       "      <th>4</th>\n",
       "      <td>Percent of households in linguistic isolation</td>\n",
       "      <td>0.025</td>\n",
       "      <td>0.032</td>\n",
       "      <td>0.239</td>\n",
       "      <td>0.083</td>\n",
       "      <td>0.095</td>\n",
       "      <td>0.708</td>\n",
       "    </tr>\n",
       "    <tr>\n",
       "      <th>5</th>\n",
       "      <td>Percent Black or African American alone</td>\n",
       "      <td>0.077</td>\n",
       "      <td>0.138</td>\n",
       "      <td>0.078</td>\n",
       "      <td>0.166</td>\n",
       "      <td>0.306</td>\n",
       "      <td>0.120</td>\n",
       "    </tr>\n",
       "    <tr>\n",
       "      <th>6</th>\n",
       "      <td>Percent American Indian and Alaska Native alone</td>\n",
       "      <td>0.006</td>\n",
       "      <td>0.009</td>\n",
       "      <td>0.002</td>\n",
       "      <td>0.010</td>\n",
       "      <td>0.020</td>\n",
       "      <td>0.002</td>\n",
       "    </tr>\n",
       "    <tr>\n",
       "      <th>7</th>\n",
       "      <td>Percent Asian alone</td>\n",
       "      <td>0.057</td>\n",
       "      <td>0.039</td>\n",
       "      <td>0.007</td>\n",
       "      <td>0.054</td>\n",
       "      <td>0.034</td>\n",
       "      <td>0.002</td>\n",
       "    </tr>\n",
       "    <tr>\n",
       "      <th>8</th>\n",
       "      <td>Percent Native Hawaiian and Other Pacific alone</td>\n",
       "      <td>0.002</td>\n",
       "      <td>0.001</td>\n",
       "      <td>0.000</td>\n",
       "      <td>0.003</td>\n",
       "      <td>0.001</td>\n",
       "      <td>0.000</td>\n",
       "    </tr>\n",
       "    <tr>\n",
       "      <th>9</th>\n",
       "      <td>Percent Two or more races</td>\n",
       "      <td>0.033</td>\n",
       "      <td>0.029</td>\n",
       "      <td>0.049</td>\n",
       "      <td>0.036</td>\n",
       "      <td>0.031</td>\n",
       "      <td>0.056</td>\n",
       "    </tr>\n",
       "    <tr>\n",
       "      <th>10</th>\n",
       "      <td>Percent Non-Hispanic White</td>\n",
       "      <td>0.722</td>\n",
       "      <td>0.665</td>\n",
       "      <td>0.023</td>\n",
       "      <td>0.463</td>\n",
       "      <td>0.351</td>\n",
       "      <td>0.009</td>\n",
       "    </tr>\n",
       "    <tr>\n",
       "      <th>11</th>\n",
       "      <td>Percent Hispanic or Latino</td>\n",
       "      <td>0.114</td>\n",
       "      <td>0.128</td>\n",
       "      <td>0.969</td>\n",
       "      <td>0.286</td>\n",
       "      <td>0.275</td>\n",
       "      <td>0.988</td>\n",
       "    </tr>\n",
       "  </tbody>\n",
       "</table>\n",
       "</div>"
      ],
      "text/plain": [
       "                                             Variable  \\\n",
       "0                                Urban Heuristic Flag   \n",
       "1   Percent of individuals below 200% Federal Pove...   \n",
       "2   Percent individuals age 25 or over with less t...   \n",
       "3                              Unemployment (percent)   \n",
       "4       Percent of households in linguistic isolation   \n",
       "5             Percent Black or African American alone   \n",
       "6     Percent American Indian and Alaska Native alone   \n",
       "7                                 Percent Asian alone   \n",
       "8     Percent Native Hawaiian and Other Pacific alone   \n",
       "9                           Percent Two or more races   \n",
       "10                         Percent Non-Hispanic White   \n",
       "11                         Percent Hispanic or Latino   \n",
       "\n",
       "    Not CEJST, Not Comparator  Not CEJST, Comparator  \\\n",
       "0                       0.804                  0.713   \n",
       "1                       0.222                  0.332   \n",
       "2                       0.076                  0.117   \n",
       "3                       0.043                  0.055   \n",
       "4                       0.025                  0.032   \n",
       "5                       0.077                  0.138   \n",
       "6                       0.006                  0.009   \n",
       "7                       0.057                  0.039   \n",
       "8                       0.002                  0.001   \n",
       "9                       0.033                  0.029   \n",
       "10                      0.722                  0.665   \n",
       "11                      0.114                  0.128   \n",
       "\n",
       "    Not CEJST, No Comparator classification  CEJST, Not Comparator  \\\n",
       "0                                     0.600                  0.858   \n",
       "1                                     0.466                  0.466   \n",
       "2                                     0.087                  0.200   \n",
       "3                                     0.109                  0.074   \n",
       "4                                     0.239                  0.083   \n",
       "5                                     0.078                  0.166   \n",
       "6                                     0.002                  0.010   \n",
       "7                                     0.007                  0.054   \n",
       "8                                     0.000                  0.003   \n",
       "9                                     0.049                  0.036   \n",
       "10                                    0.023                  0.463   \n",
       "11                                    0.969                  0.286   \n",
       "\n",
       "    CEJST, Comparator  CEJST, No Comparator classification  \n",
       "0               0.828                                  NaN  \n",
       "1               0.554                                0.756  \n",
       "2               0.239                                0.252  \n",
       "3               0.096                                0.181  \n",
       "4               0.095                                0.708  \n",
       "5               0.306                                0.120  \n",
       "6               0.020                                0.002  \n",
       "7               0.034                                0.002  \n",
       "8               0.001                                0.000  \n",
       "9               0.031                                0.056  \n",
       "10              0.351                                0.009  \n",
       "11              0.275                                0.988  "
      ]
     },
     "execution_count": 13,
     "metadata": {},
     "output_type": "execute_result"
    }
   ],
   "source": [
    "tract_level_by_grouping_formatted_df"
   ]
  },
  {
   "cell_type": "markdown",
   "id": "372ac341-b03b-404a-9462-5087b88579b7",
   "metadata": {
    "papermill": {
     "duration": 0.017897,
     "end_time": "2022-03-30T22:03:40.088287",
     "exception": false,
     "start_time": "2022-03-30T22:03:40.070390",
     "status": "completed"
    },
    "tags": []
   },
   "source": [
    "## Population-weighted stats"
   ]
  },
  {
   "cell_type": "code",
   "execution_count": 14,
   "id": "d172e3c8-60ab-44f0-8034-dda69f1146da",
   "metadata": {
    "papermill": {
     "duration": 0.197739,
     "end_time": "2022-03-30T22:03:40.305339",
     "exception": false,
     "start_time": "2022-03-30T22:03:40.107600",
     "status": "completed"
    },
    "tags": []
   },
   "outputs": [],
   "source": [
    "# papermill_description=Population_stats\n",
    "population_weighted_stats_df = pd.concat(\n",
    "    [\n",
    "        utils.construct_weighted_statistics(\n",
    "            input_df=joined_df,\n",
    "            weighting_column=COMPARATOR_COLUMN,\n",
    "            demographic_columns=DEMOGRAPHIC_COLUMNS + ADDITIONAL_DEMO_COLUMNS,\n",
    "            population_column=TOTAL_POPULATION_COLUMN,\n",
    "        ),\n",
    "        utils.construct_weighted_statistics(\n",
    "            input_df=joined_df,\n",
    "            weighting_column=SCORE_COLUMN,\n",
    "            demographic_columns=DEMOGRAPHIC_COLUMNS + ADDITIONAL_DEMO_COLUMNS,\n",
    "            population_column=TOTAL_POPULATION_COLUMN,\n",
    "        ),\n",
    "    ],\n",
    "    axis=1,\n",
    ")"
   ]
  },
  {
   "cell_type": "code",
   "execution_count": 15,
   "id": "33c96e68",
   "metadata": {
    "papermill": {
     "duration": 0.031088,
     "end_time": "2022-03-30T22:03:40.359264",
     "exception": false,
     "start_time": "2022-03-30T22:03:40.328176",
     "status": "completed"
    },
    "tags": []
   },
   "outputs": [
    {
     "data": {
      "text/html": [
       "<div>\n",
       "<style scoped>\n",
       "    .dataframe tbody tr th:only-of-type {\n",
       "        vertical-align: middle;\n",
       "    }\n",
       "\n",
       "    .dataframe tbody tr th {\n",
       "        vertical-align: top;\n",
       "    }\n",
       "\n",
       "    .dataframe thead th {\n",
       "        text-align: right;\n",
       "    }\n",
       "</style>\n",
       "<table border=\"1\" class=\"dataframe\">\n",
       "  <thead>\n",
       "    <tr style=\"text-align: right;\">\n",
       "      <th></th>\n",
       "      <th>not three_factor_dac</th>\n",
       "      <th>three_factor_dac</th>\n",
       "      <th>not Definition M (communities)</th>\n",
       "      <th>Definition M (communities)</th>\n",
       "    </tr>\n",
       "  </thead>\n",
       "  <tbody>\n",
       "    <tr>\n",
       "      <th>Percent Black or African American alone</th>\n",
       "      <td>0.093</td>\n",
       "      <td>0.223</td>\n",
       "      <td>0.089</td>\n",
       "      <td>0.223</td>\n",
       "    </tr>\n",
       "    <tr>\n",
       "      <th>Percent American Indian and Alaska Native alone</th>\n",
       "      <td>0.006</td>\n",
       "      <td>0.016</td>\n",
       "      <td>0.006</td>\n",
       "      <td>0.015</td>\n",
       "    </tr>\n",
       "    <tr>\n",
       "      <th>Percent Asian alone</th>\n",
       "      <td>0.061</td>\n",
       "      <td>0.039</td>\n",
       "      <td>0.059</td>\n",
       "      <td>0.044</td>\n",
       "    </tr>\n",
       "    <tr>\n",
       "      <th>Percent Native Hawaiian and Other Pacific alone</th>\n",
       "      <td>0.002</td>\n",
       "      <td>0.002</td>\n",
       "      <td>0.002</td>\n",
       "      <td>0.002</td>\n",
       "    </tr>\n",
       "    <tr>\n",
       "      <th>Percent Two or more races</th>\n",
       "      <td>0.034</td>\n",
       "      <td>0.031</td>\n",
       "      <td>0.033</td>\n",
       "      <td>0.034</td>\n",
       "    </tr>\n",
       "    <tr>\n",
       "      <th>Percent Non-Hispanic White</th>\n",
       "      <td>0.663</td>\n",
       "      <td>0.449</td>\n",
       "      <td>0.696</td>\n",
       "      <td>0.362</td>\n",
       "    </tr>\n",
       "    <tr>\n",
       "      <th>Percent Hispanic or Latino</th>\n",
       "      <td>0.152</td>\n",
       "      <td>0.258</td>\n",
       "      <td>0.126</td>\n",
       "      <td>0.345</td>\n",
       "    </tr>\n",
       "    <tr>\n",
       "      <th>Urban Heuristic Flag</th>\n",
       "      <td>0.839</td>\n",
       "      <td>0.801</td>\n",
       "      <td>0.819</td>\n",
       "      <td>0.823</td>\n",
       "    </tr>\n",
       "    <tr>\n",
       "      <th>Percent of individuals below 200% Federal Poverty Line</th>\n",
       "      <td>0.254</td>\n",
       "      <td>0.470</td>\n",
       "      <td>0.233</td>\n",
       "      <td>0.520</td>\n",
       "    </tr>\n",
       "    <tr>\n",
       "      <th>Percent individuals age 25 or over with less than high school degree</th>\n",
       "      <td>0.096</td>\n",
       "      <td>0.203</td>\n",
       "      <td>0.082</td>\n",
       "      <td>0.232</td>\n",
       "    </tr>\n",
       "    <tr>\n",
       "      <th>Unemployment (percent)</th>\n",
       "      <td>0.047</td>\n",
       "      <td>0.078</td>\n",
       "      <td>0.044</td>\n",
       "      <td>0.086</td>\n",
       "    </tr>\n",
       "    <tr>\n",
       "      <th>Percent of households in linguistic isolation</th>\n",
       "      <td>0.036</td>\n",
       "      <td>0.084</td>\n",
       "      <td>0.028</td>\n",
       "      <td>0.124</td>\n",
       "    </tr>\n",
       "  </tbody>\n",
       "</table>\n",
       "</div>"
      ],
      "text/plain": [
       "                                                    not three_factor_dac  \\\n",
       "Percent Black or African American alone                            0.093   \n",
       "Percent American Indian and Alaska Native alone                    0.006   \n",
       "Percent Asian alone                                                0.061   \n",
       "Percent Native Hawaiian and Other Pacific alone                    0.002   \n",
       "Percent Two or more races                                          0.034   \n",
       "Percent Non-Hispanic White                                         0.663   \n",
       "Percent Hispanic or Latino                                         0.152   \n",
       "Urban Heuristic Flag                                               0.839   \n",
       "Percent of individuals below 200% Federal Pover...                 0.254   \n",
       "Percent individuals age 25 or over with less th...                 0.096   \n",
       "Unemployment (percent)                                             0.047   \n",
       "Percent of households in linguistic isolation                      0.036   \n",
       "\n",
       "                                                    three_factor_dac  \\\n",
       "Percent Black or African American alone                        0.223   \n",
       "Percent American Indian and Alaska Native alone                0.016   \n",
       "Percent Asian alone                                            0.039   \n",
       "Percent Native Hawaiian and Other Pacific alone                0.002   \n",
       "Percent Two or more races                                      0.031   \n",
       "Percent Non-Hispanic White                                     0.449   \n",
       "Percent Hispanic or Latino                                     0.258   \n",
       "Urban Heuristic Flag                                           0.801   \n",
       "Percent of individuals below 200% Federal Pover...             0.470   \n",
       "Percent individuals age 25 or over with less th...             0.203   \n",
       "Unemployment (percent)                                         0.078   \n",
       "Percent of households in linguistic isolation                  0.084   \n",
       "\n",
       "                                                    not Definition M (communities)  \\\n",
       "Percent Black or African American alone                                      0.089   \n",
       "Percent American Indian and Alaska Native alone                              0.006   \n",
       "Percent Asian alone                                                          0.059   \n",
       "Percent Native Hawaiian and Other Pacific alone                              0.002   \n",
       "Percent Two or more races                                                    0.033   \n",
       "Percent Non-Hispanic White                                                   0.696   \n",
       "Percent Hispanic or Latino                                                   0.126   \n",
       "Urban Heuristic Flag                                                         0.819   \n",
       "Percent of individuals below 200% Federal Pover...                           0.233   \n",
       "Percent individuals age 25 or over with less th...                           0.082   \n",
       "Unemployment (percent)                                                       0.044   \n",
       "Percent of households in linguistic isolation                                0.028   \n",
       "\n",
       "                                                    Definition M (communities)  \n",
       "Percent Black or African American alone                                  0.223  \n",
       "Percent American Indian and Alaska Native alone                          0.015  \n",
       "Percent Asian alone                                                      0.044  \n",
       "Percent Native Hawaiian and Other Pacific alone                          0.002  \n",
       "Percent Two or more races                                                0.034  \n",
       "Percent Non-Hispanic White                                               0.362  \n",
       "Percent Hispanic or Latino                                               0.345  \n",
       "Urban Heuristic Flag                                                     0.823  \n",
       "Percent of individuals below 200% Federal Pover...                       0.520  \n",
       "Percent individuals age 25 or over with less th...                       0.232  \n",
       "Unemployment (percent)                                                   0.086  \n",
       "Percent of households in linguistic isolation                            0.124  "
      ]
     },
     "execution_count": 15,
     "metadata": {},
     "output_type": "execute_result"
    }
   ],
   "source": [
    "population_weighted_stats_df"
   ]
  },
  {
   "cell_type": "markdown",
   "id": "751d2d21",
   "metadata": {
    "papermill": {
     "duration": 0.01936,
     "end_time": "2022-03-30T22:03:40.397985",
     "exception": false,
     "start_time": "2022-03-30T22:03:40.378625",
     "status": "completed"
    },
    "tags": []
   },
   "source": [
    "## Final information about overlap"
   ]
  },
  {
   "cell_type": "code",
   "execution_count": 16,
   "id": "9eef9447",
   "metadata": {
    "papermill": {
     "duration": 0.123226,
     "end_time": "2022-03-30T22:03:40.540566",
     "exception": false,
     "start_time": "2022-03-30T22:03:40.417340",
     "status": "completed"
    },
    "tags": []
   },
   "outputs": [],
   "source": [
    "comparator_and_cejst_proportion_series, states = utils.get_final_summary_info(\n",
    "    population=population_df, comparator_file=COMPARATOR_FILE, geoid_col=GEOID_COLUMN\n",
    ")"
   ]
  },
  {
   "cell_type": "code",
   "execution_count": 17,
   "id": "b3740162-35f9-44ea-9c10-2d2268be4f47",
   "metadata": {},
   "outputs": [
    {
     "data": {
      "text/plain": [
       "Population            0.645\n",
       "Count of tracts       0.655\n",
       "Share of tracts       0.655\n",
       "Share of population   0.645\n",
       "dtype: float64"
      ]
     },
     "execution_count": 17,
     "metadata": {},
     "output_type": "execute_result"
    }
   ],
   "source": [
    "comparator_and_cejst_proportion_series"
   ]
  },
  {
   "cell_type": "code",
   "execution_count": 18,
   "id": "2c45e7b6",
   "metadata": {
    "papermill": {
     "duration": 0.028241,
     "end_time": "2022-03-30T22:03:40.588433",
     "exception": false,
     "start_time": "2022-03-30T22:03:40.560192",
     "status": "completed"
    },
    "tags": []
   },
   "outputs": [
    {
     "data": {
      "text/plain": [
       "'States included in comparator: AL, AK, AZ, AR, CA, CO, CT, DE, DC, FL, GA, HI, ID, IL, IN, IA, KS, KY, LA, ME, MD, MA, MI, MN, MS, MO, MT, NE, NV, NH, NJ, NM, NY, NC, ND, OH, OK, OR, PA, RI, SC, SD, TN, TX, UT, VT, VA, WA, WV, WI, WY'"
      ]
     },
     "execution_count": 18,
     "metadata": {},
     "output_type": "execute_result"
    }
   ],
   "source": [
    "states_text = \"States included in comparator: \" + states\n",
    "states_text"
   ]
  },
  {
   "cell_type": "markdown",
   "id": "a9fb4dfa-876d-4f25-9552-9831f51ec05c",
   "metadata": {
    "papermill": {
     "duration": 0.01878,
     "end_time": "2022-03-30T22:03:40.627602",
     "exception": false,
     "start_time": "2022-03-30T22:03:40.608822",
     "status": "completed"
    },
    "tags": []
   },
   "source": [
    "## Print to excel"
   ]
  },
  {
   "cell_type": "code",
   "execution_count": 19,
   "id": "67e2c71e-68af-44b4-bab0-33bc54afe7a4",
   "metadata": {
    "papermill": {
     "duration": 0.052769,
     "end_time": "2022-03-30T22:03:40.701102",
     "exception": false,
     "start_time": "2022-03-30T22:03:40.648333",
     "status": "completed"
    },
    "tags": []
   },
   "outputs": [],
   "source": [
    "# papermill_description=Writing_excel\n",
    "utils.write_single_comparison_excel(\n",
    "    output_excel=OUTPUT_EXCEL,\n",
    "    population_df=population_df,\n",
    "    tract_level_by_identification_df=tract_level_by_identification_df,\n",
    "    population_weighted_stats_df=population_weighted_stats_df,\n",
    "    tract_level_by_grouping_formatted_df=tract_level_by_grouping_formatted_df,\n",
    "    comparator_and_cejst_proportion_series=comparator_and_cejst_proportion_series,\n",
    "    states_text=states_text,\n",
    ")"
   ]
  },
  {
   "cell_type": "markdown",
   "id": "3ba55e7a-d27b-4a7c-a9e0-34894cb07e90",
   "metadata": {},
   "source": [
    "## Some scratch"
   ]
  },
  {
   "cell_type": "code",
   "execution_count": 20,
   "id": "132085b2-165c-4929-96e9-a8370a534618",
   "metadata": {},
   "outputs": [
    {
     "data": {
      "text/plain": [
       "one_two_factor_dac  Definition M (communities)\n",
       "False               False                         36955\n",
       "                    True                          14191\n",
       "True                False                         13498\n",
       "                    True                           8412\n",
       "Name: Definition M (communities), dtype: int64"
      ]
     },
     "execution_count": 20,
     "metadata": {},
     "output_type": "execute_result"
    }
   ],
   "source": [
    "joined_df.groupby(\"one_two_factor_dac\")[\"Definition M (communities)\"].value_counts(\n",
    "    dropna=False\n",
    ")"
   ]
  },
  {
   "cell_type": "code",
   "execution_count": 21,
   "id": "cfe53ddd-0b52-43c6-a1ff-d15cf1f34bcb",
   "metadata": {},
   "outputs": [
    {
     "data": {
      "text/plain": [
       "three_factor_dac  Definition M (communities)\n",
       "False             False                         42890\n",
       "                  True                           8254\n",
       "True              True                          14349\n",
       "                  False                          7563\n",
       "Name: Definition M (communities), dtype: int64"
      ]
     },
     "execution_count": 21,
     "metadata": {},
     "output_type": "execute_result"
    }
   ],
   "source": [
    "joined_df.groupby(\"three_factor_dac\")[\"Definition M (communities)\"].value_counts(\n",
    "    dropna=False\n",
    ")"
   ]
  },
  {
   "cell_type": "code",
   "execution_count": 22,
   "id": "bd37defe-038d-4a44-8360-a9a4176684e8",
   "metadata": {},
   "outputs": [
    {
     "data": {
      "text/plain": [
       "(three_factor_dac\n",
       " False    0.000\n",
       " True    26.510\n",
       " Name: PRED3_PE, dtype: float64,\n",
       " three_factor_dac\n",
       " False    26.500\n",
       " True    100.000\n",
       " Name: PRED3_PE, dtype: float64)"
      ]
     },
     "execution_count": 22,
     "metadata": {},
     "output_type": "execute_result"
    }
   ],
   "source": [
    "joined_df.groupby(\"three_factor_dac\")[\"PRED3_PE\"].min(), joined_df.groupby(\n",
    "    \"three_factor_dac\"\n",
    ")[\"PRED3_PE\"].max()"
   ]
  },
  {
   "cell_type": "markdown",
   "id": "ccbfe640-d95e-45d5-8b3b-48e48bb52be5",
   "metadata": {},
   "source": [
    "three matches better than one-two, only at the top of the distribution"
   ]
  },
  {
   "cell_type": "code",
   "execution_count": 23,
   "id": "e3e6ed0e-1032-4a70-83ec-1a8b3086ea40",
   "metadata": {},
   "outputs": [],
   "source": [
    "joined_df[\"top_10_three\"] = joined_df[\"PRED3_PE\"].rank(pct=True) >= 0.9"
   ]
  },
  {
   "cell_type": "code",
   "execution_count": 24,
   "id": "e7b4cc07-8036-439a-852c-1dd8714ae3c6",
   "metadata": {},
   "outputs": [
    {
     "data": {
      "text/plain": [
       "top_10_three  Definition M (communities)\n",
       "False         False                         49476\n",
       "              True                          17373\n",
       "True          True                           6104\n",
       "              False                          1207\n",
       "Name: Definition M (communities), dtype: int64"
      ]
     },
     "execution_count": 24,
     "metadata": {},
     "output_type": "execute_result"
    }
   ],
   "source": [
    "joined_df.groupby(\"top_10_three\")[\"Definition M (communities)\"].value_counts(\n",
    "    dropna=False\n",
    ")"
   ]
  },
  {
   "cell_type": "code",
   "execution_count": 25,
   "id": "7329bc9f-ab8c-4455-bb71-de78c974de15",
   "metadata": {},
   "outputs": [],
   "source": [
    "joined_df[\"top_10_one_two\"] = joined_df[\"PRED12_PE\"].rank(pct=True) >= 0.9"
   ]
  },
  {
   "cell_type": "code",
   "execution_count": 26,
   "id": "dffedb8c-59e4-4204-8b77-4cf93fc6958c",
   "metadata": {},
   "outputs": [
    {
     "data": {
      "text/plain": [
       "top_10_one_two  Definition M (communities)\n",
       "False           False                         46705\n",
       "                True                          20154\n",
       "True            False                          3978\n",
       "                True                           3323\n",
       "Name: Definition M (communities), dtype: int64"
      ]
     },
     "execution_count": 26,
     "metadata": {},
     "output_type": "execute_result"
    }
   ],
   "source": [
    "joined_df.groupby(\"top_10_one_two\")[\"Definition M (communities)\"].value_counts(\n",
    "    dropna=False\n",
    ")"
   ]
  },
  {
   "cell_type": "code",
   "execution_count": null,
   "id": "df303bcf-0e84-431d-a728-ae3c7485140d",
   "metadata": {},
   "outputs": [],
   "source": []
  }
 ],
 "metadata": {
  "kernelspec": {
   "display_name": "Python 3 (ipykernel)",
   "language": "python",
   "name": "python3"
  },
  "language_info": {
   "codemirror_mode": {
    "name": "ipython",
    "version": 3
   },
   "file_extension": ".py",
   "mimetype": "text/x-python",
   "name": "python",
   "nbconvert_exporter": "python",
   "pygments_lexer": "ipython3",
   "version": "3.9.10"
  },
  "papermill": {
   "default_parameters": {},
   "duration": 9.226139,
   "end_time": "2022-03-30T22:03:41.141582",
   "environment_variables": {},
   "exception": null,
   "input_path": "src/tract_comparison__template.ipynb",
   "output_path": "/Users/emmausds/Desktop/justice40-tool/data/data-pipeline/data_pipeline/comparison_tool/output/cre/cre__tract_comparison__2022-03-30.ipynb",
   "parameters": {
    "ADDITIONAL_DEMO_COLUMNS": [
     "Urban Heuristic Flag",
     "Percent of individuals below 200% Federal Poverty Line",
     "Percent individuals age 25 or over with less than high school degree",
     "Unemployment (percent)",
     "Percent of households in linguistic isolation"
    ],
    "COMPARATOR_COLUMN": "three_factor_dac",
    "COMPARATOR_FILE": "/Users/emmausds/Desktop/justice40-tool/data/data-pipeline/data_pipeline/comparison_tool/data/community_resilience_estimates/clean/cre_clean.csv",
    "DEMOGRAPHIC_COLUMNS": [
     "Percent Black or African American alone",
     "Percent American Indian and Alaska Native alone",
     "Percent Asian alone",
     "Percent Native Hawaiian and Other Pacific alone",
     "Percent Two or more races",
     "Percent Non-Hispanic White",
     "Percent Hispanic or Latino"
    ],
    "DEMOGRAPHIC_FILE": "/Users/emmausds/Desktop/justice40-tool/data/data-pipeline/data_pipeline/data/dataset/census_acs_2019/usa.csv",
    "KEEP_MISSING_VALUES_FOR_SEGMENTATION": true,
    "OTHER_COMPARATOR_COLUMNS": [
     "one_two_factor_dac",
     "PRED3_PE",
     "PRED12_PE"
    ],
    "OUTPUT_DATA_PATH": "/Users/emmausds/Desktop/justice40-tool/data/data-pipeline/data_pipeline/comparison_tool/output/cre",
    "OUTPUT_NAME": "cre",
    "SCORE_FILE": "/Users/emmausds/Desktop/justice40-tool/data/data-pipeline/data_pipeline/data/score/csv/full/usa.csv"
   },
   "start_time": "2022-03-30T22:03:31.915443",
   "version": "2.3.4"
  }
 },
 "nbformat": 4,
 "nbformat_minor": 5
}
