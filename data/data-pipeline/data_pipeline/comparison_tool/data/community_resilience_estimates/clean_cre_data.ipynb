{
 "cells": [
  {
   "cell_type": "code",
   "execution_count": 1,
   "id": "34a1429c-24cd-4ce1-bb1c-34f63704619c",
   "metadata": {},
   "outputs": [],
   "source": [
    "import pandas as pd\n",
    "import numpy as np\n",
    "\n",
    "%load_ext lab_black"
   ]
  },
  {
   "cell_type": "code",
   "execution_count": 2,
   "id": "bb15fa3c-2f77-452e-9188-fbcef184ee37",
   "metadata": {},
   "outputs": [],
   "source": [
    "raw = pd.read_csv(\"./raw/CRE_19_Tract.csv\")"
   ]
  },
  {
   "cell_type": "code",
   "execution_count": 3,
   "id": "148c3632-df33-44a9-8e92-67712c24678b",
   "metadata": {},
   "outputs": [
    {
     "data": {
      "text/html": [
       "<div>\n",
       "<style scoped>\n",
       "    .dataframe tbody tr th:only-of-type {\n",
       "        vertical-align: middle;\n",
       "    }\n",
       "\n",
       "    .dataframe tbody tr th {\n",
       "        vertical-align: top;\n",
       "    }\n",
       "\n",
       "    .dataframe thead th {\n",
       "        text-align: right;\n",
       "    }\n",
       "</style>\n",
       "<table border=\"1\" class=\"dataframe\">\n",
       "  <thead>\n",
       "    <tr style=\"text-align: right;\">\n",
       "      <th></th>\n",
       "      <th>GEO_ID</th>\n",
       "      <th>STATE</th>\n",
       "      <th>COUNTY</th>\n",
       "      <th>TRACT</th>\n",
       "      <th>NAME</th>\n",
       "      <th>POPUNI</th>\n",
       "      <th>PRED0_E</th>\n",
       "      <th>PRED0_M</th>\n",
       "      <th>PRED0_PE</th>\n",
       "      <th>PRED0_PM</th>\n",
       "      <th>PRED12_E</th>\n",
       "      <th>PRED12_M</th>\n",
       "      <th>PRED12_PE</th>\n",
       "      <th>PRED12_PM</th>\n",
       "      <th>PRED3_E</th>\n",
       "      <th>PRED3_M</th>\n",
       "      <th>PRED3_PE</th>\n",
       "      <th>PRED3_PM</th>\n",
       "    </tr>\n",
       "  </thead>\n",
       "  <tbody>\n",
       "    <tr>\n",
       "      <th>0</th>\n",
       "      <td>1400000US01001020100</td>\n",
       "      <td>1</td>\n",
       "      <td>1</td>\n",
       "      <td>20100</td>\n",
       "      <td>Census Tract 201, Autauga County, Alabama</td>\n",
       "      <td>1924</td>\n",
       "      <td>720</td>\n",
       "      <td>285</td>\n",
       "      <td>37.42</td>\n",
       "      <td>14.82</td>\n",
       "      <td>644</td>\n",
       "      <td>302</td>\n",
       "      <td>33.47</td>\n",
       "      <td>15.71</td>\n",
       "      <td>560</td>\n",
       "      <td>267</td>\n",
       "      <td>29.11</td>\n",
       "      <td>13.86</td>\n",
       "    </tr>\n",
       "    <tr>\n",
       "      <th>1</th>\n",
       "      <td>1400000US01001020200</td>\n",
       "      <td>1</td>\n",
       "      <td>1</td>\n",
       "      <td>20200</td>\n",
       "      <td>Census Tract 202, Autauga County, Alabama</td>\n",
       "      <td>2173</td>\n",
       "      <td>791</td>\n",
       "      <td>327</td>\n",
       "      <td>36.40</td>\n",
       "      <td>15.05</td>\n",
       "      <td>917</td>\n",
       "      <td>335</td>\n",
       "      <td>42.20</td>\n",
       "      <td>15.40</td>\n",
       "      <td>465</td>\n",
       "      <td>285</td>\n",
       "      <td>21.40</td>\n",
       "      <td>13.12</td>\n",
       "    </tr>\n",
       "  </tbody>\n",
       "</table>\n",
       "</div>"
      ],
      "text/plain": [
       "                 GEO_ID  STATE  COUNTY  TRACT  \\\n",
       "0  1400000US01001020100      1       1  20100   \n",
       "1  1400000US01001020200      1       1  20200   \n",
       "\n",
       "                                        NAME  POPUNI  PRED0_E  PRED0_M  \\\n",
       "0  Census Tract 201, Autauga County, Alabama    1924      720      285   \n",
       "1  Census Tract 202, Autauga County, Alabama    2173      791      327   \n",
       "\n",
       "   PRED0_PE  PRED0_PM  PRED12_E  PRED12_M  PRED12_PE  PRED12_PM  PRED3_E  \\\n",
       "0     37.42     14.82       644       302      33.47      15.71      560   \n",
       "1     36.40     15.05       917       335      42.20      15.40      465   \n",
       "\n",
       "   PRED3_M  PRED3_PE  PRED3_PM  \n",
       "0      267     29.11     13.86  \n",
       "1      285     21.40     13.12  "
      ]
     },
     "execution_count": 3,
     "metadata": {},
     "output_type": "execute_result"
    }
   ],
   "source": [
    "raw.head(2)"
   ]
  },
  {
   "cell_type": "markdown",
   "id": "d6a9dc52-2ffb-431e-b447-abc5dbc8b0af",
   "metadata": {},
   "source": [
    "![Codebook](codebook.png)"
   ]
  },
  {
   "cell_type": "code",
   "execution_count": 4,
   "id": "d259d5a5-21e3-4ebd-85d8-23cb4d40918a",
   "metadata": {},
   "outputs": [],
   "source": [
    "raw[\"GEOID10_TRACT\"] = raw[\"GEO_ID\"].apply(lambda x: x.split(\"US\")[1])"
   ]
  },
  {
   "cell_type": "markdown",
   "id": "bc089fc6-9d4c-4703-afa0-b4f2ccc9aae0",
   "metadata": {},
   "source": [
    "take top 30% of tracts "
   ]
  },
  {
   "cell_type": "code",
   "execution_count": 5,
   "id": "7777a342-680b-4a90-87d7-62167932d6e2",
   "metadata": {},
   "outputs": [],
   "source": [
    "raw[\"three_factor_dac_pct\"] = raw[\"PRED3_PE\"].rank(pct=True)\n",
    "raw[\"one_two_factor_dac_pct\"] = raw[\"PRED12_PE\"].rank(pct=True)"
   ]
  },
  {
   "cell_type": "code",
   "execution_count": 6,
   "id": "7a0ffd1c-55c5-4747-84a7-ec141ef97140",
   "metadata": {},
   "outputs": [],
   "source": [
    "raw[\"three_factor_dac\"] = raw[\"three_factor_dac_pct\"] >= 0.7\n",
    "raw[\"one_two_factor_dac\"] = raw[\"one_two_factor_dac_pct\"] >= 0.7"
   ]
  },
  {
   "cell_type": "code",
   "execution_count": 7,
   "id": "3f6e0142",
   "metadata": {},
   "outputs": [],
   "source": [
    "raw[\"three_factor_dac_10_pct\"] = raw[\"three_factor_dac_pct\"] >= 0.9\n",
    "raw[\"one_two_factor_dac_10_pct\"] = raw[\"one_two_factor_dac_pct\"] >= 0.9"
   ]
  },
  {
   "cell_type": "code",
   "execution_count": 8,
   "id": "c14a3a81-f6fb-44f1-8e28-b6c2501197dc",
   "metadata": {},
   "outputs": [],
   "source": [
    "raw[\n",
    "    [\n",
    "        \"GEOID10_TRACT\",\n",
    "        \"three_factor_dac_pct\",\n",
    "        \"one_two_factor_dac_pct\",\n",
    "        \"three_factor_dac\",\n",
    "        \"one_two_factor_dac\",\n",
    "        \"three_factor_dac_10_pct\",\n",
    "        \"one_two_factor_dac_10_pct\",\n",
    "        \"PRED3_PE\",\n",
    "        \"PRED12_PE\",\n",
    "    ]\n",
    "].to_csv(\"clean/cre_clean.csv\")"
   ]
  },
  {
   "cell_type": "code",
   "execution_count": 9,
   "id": "ef389970-3e7f-44fd-ad71-cd6bc400378f",
   "metadata": {},
   "outputs": [
    {
     "data": {
      "text/plain": [
       "False    51144\n",
       "True     21912\n",
       "Name: three_factor_dac, dtype: int64"
      ]
     },
     "execution_count": 9,
     "metadata": {},
     "output_type": "execute_result"
    }
   ],
   "source": [
    "raw[\"three_factor_dac\"].value_counts(dropna=False)"
   ]
  },
  {
   "cell_type": "code",
   "execution_count": 10,
   "id": "8d20aec4-7b92-4349-8248-4ec74515b692",
   "metadata": {},
   "outputs": [
    {
     "data": {
      "text/plain": [
       "False    51146\n",
       "True     21910\n",
       "Name: one_two_factor_dac, dtype: int64"
      ]
     },
     "execution_count": 10,
     "metadata": {},
     "output_type": "execute_result"
    }
   ],
   "source": [
    "raw[\"one_two_factor_dac\"].value_counts(dropna=False)"
   ]
  },
  {
   "cell_type": "markdown",
   "id": "530daea4-38a5-4c26-883e-8ef91918e693",
   "metadata": {},
   "source": [
    "three factor gives better separation i think"
   ]
  },
  {
   "cell_type": "code",
   "execution_count": 11,
   "id": "8e9fa2da-4ebb-443e-9e34-c614805cd9fd",
   "metadata": {},
   "outputs": [
    {
     "data": {
      "text/html": [
       "<div>\n",
       "<style scoped>\n",
       "    .dataframe tbody tr th:only-of-type {\n",
       "        vertical-align: middle;\n",
       "    }\n",
       "\n",
       "    .dataframe tbody tr th {\n",
       "        vertical-align: top;\n",
       "    }\n",
       "\n",
       "    .dataframe thead th {\n",
       "        text-align: right;\n",
       "    }\n",
       "</style>\n",
       "<table border=\"1\" class=\"dataframe\">\n",
       "  <thead>\n",
       "    <tr style=\"text-align: right;\">\n",
       "      <th></th>\n",
       "      <th>count</th>\n",
       "      <th>mean</th>\n",
       "      <th>std</th>\n",
       "      <th>min</th>\n",
       "      <th>25%</th>\n",
       "      <th>50%</th>\n",
       "      <th>75%</th>\n",
       "      <th>max</th>\n",
       "    </tr>\n",
       "    <tr>\n",
       "      <th>three_factor_dac</th>\n",
       "      <th></th>\n",
       "      <th></th>\n",
       "      <th></th>\n",
       "      <th></th>\n",
       "      <th></th>\n",
       "      <th></th>\n",
       "      <th></th>\n",
       "      <th></th>\n",
       "    </tr>\n",
       "  </thead>\n",
       "  <tbody>\n",
       "    <tr>\n",
       "      <th>False</th>\n",
       "      <td>51144.0</td>\n",
       "      <td>17.023308</td>\n",
       "      <td>5.311785</td>\n",
       "      <td>0.00</td>\n",
       "      <td>12.96</td>\n",
       "      <td>17.11</td>\n",
       "      <td>21.34</td>\n",
       "      <td>26.5</td>\n",
       "    </tr>\n",
       "    <tr>\n",
       "      <th>True</th>\n",
       "      <td>21912.0</td>\n",
       "      <td>35.185369</td>\n",
       "      <td>7.602055</td>\n",
       "      <td>26.51</td>\n",
       "      <td>29.37</td>\n",
       "      <td>33.12</td>\n",
       "      <td>38.99</td>\n",
       "      <td>100.0</td>\n",
       "    </tr>\n",
       "  </tbody>\n",
       "</table>\n",
       "</div>"
      ],
      "text/plain": [
       "                    count       mean       std    min    25%    50%    75%  \\\n",
       "three_factor_dac                                                             \n",
       "False             51144.0  17.023308  5.311785   0.00  12.96  17.11  21.34   \n",
       "True              21912.0  35.185369  7.602055  26.51  29.37  33.12  38.99   \n",
       "\n",
       "                    max  \n",
       "three_factor_dac         \n",
       "False              26.5  \n",
       "True              100.0  "
      ]
     },
     "execution_count": 11,
     "metadata": {},
     "output_type": "execute_result"
    }
   ],
   "source": [
    "raw.groupby(\"three_factor_dac\")[\"PRED3_PE\"].describe()"
   ]
  },
  {
   "cell_type": "code",
   "execution_count": 12,
   "id": "5dde863c-88d0-47a9-a4db-c5a7b3d4e5d3",
   "metadata": {},
   "outputs": [
    {
     "data": {
      "text/html": [
       "<div>\n",
       "<style scoped>\n",
       "    .dataframe tbody tr th:only-of-type {\n",
       "        vertical-align: middle;\n",
       "    }\n",
       "\n",
       "    .dataframe tbody tr th {\n",
       "        vertical-align: top;\n",
       "    }\n",
       "\n",
       "    .dataframe thead th {\n",
       "        text-align: right;\n",
       "    }\n",
       "</style>\n",
       "<table border=\"1\" class=\"dataframe\">\n",
       "  <thead>\n",
       "    <tr style=\"text-align: right;\">\n",
       "      <th></th>\n",
       "      <th>count</th>\n",
       "      <th>mean</th>\n",
       "      <th>std</th>\n",
       "      <th>min</th>\n",
       "      <th>25%</th>\n",
       "      <th>50%</th>\n",
       "      <th>75%</th>\n",
       "      <th>max</th>\n",
       "    </tr>\n",
       "    <tr>\n",
       "      <th>one_two_factor_dac</th>\n",
       "      <th></th>\n",
       "      <th></th>\n",
       "      <th></th>\n",
       "      <th></th>\n",
       "      <th></th>\n",
       "      <th></th>\n",
       "      <th></th>\n",
       "      <th></th>\n",
       "    </tr>\n",
       "  </thead>\n",
       "  <tbody>\n",
       "    <tr>\n",
       "      <th>False</th>\n",
       "      <td>51146.0</td>\n",
       "      <td>39.102751</td>\n",
       "      <td>5.558427</td>\n",
       "      <td>0.0</td>\n",
       "      <td>35.31</td>\n",
       "      <td>39.73</td>\n",
       "      <td>43.59</td>\n",
       "      <td>47.79</td>\n",
       "    </tr>\n",
       "    <tr>\n",
       "      <th>True</th>\n",
       "      <td>21910.0</td>\n",
       "      <td>54.127719</td>\n",
       "      <td>5.589717</td>\n",
       "      <td>47.8</td>\n",
       "      <td>50.01</td>\n",
       "      <td>52.75</td>\n",
       "      <td>56.69</td>\n",
       "      <td>100.00</td>\n",
       "    </tr>\n",
       "  </tbody>\n",
       "</table>\n",
       "</div>"
      ],
      "text/plain": [
       "                      count       mean       std   min    25%    50%    75%  \\\n",
       "one_two_factor_dac                                                            \n",
       "False               51146.0  39.102751  5.558427   0.0  35.31  39.73  43.59   \n",
       "True                21910.0  54.127719  5.589717  47.8  50.01  52.75  56.69   \n",
       "\n",
       "                       max  \n",
       "one_two_factor_dac          \n",
       "False                47.79  \n",
       "True                100.00  "
      ]
     },
     "execution_count": 12,
     "metadata": {},
     "output_type": "execute_result"
    }
   ],
   "source": [
    "raw.groupby(\"one_two_factor_dac\")[\"PRED12_PE\"].describe()"
   ]
  }
 ],
 "metadata": {
  "kernelspec": {
   "display_name": "Python 3 (ipykernel)",
   "language": "python",
   "name": "python3"
  },
  "language_info": {
   "codemirror_mode": {
    "name": "ipython",
    "version": 3
   },
   "file_extension": ".py",
   "mimetype": "text/x-python",
   "name": "python",
   "nbconvert_exporter": "python",
   "pygments_lexer": "ipython3",
   "version": "3.9.10"
  }
 },
 "nbformat": 4,
 "nbformat_minor": 5
}
