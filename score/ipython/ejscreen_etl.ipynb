{
 "cells": [
  {
   "cell_type": "code",
   "execution_count": 1,
   "id": "20aa3891",
   "metadata": {},
   "outputs": [],
   "source": [
    "from pathlib import Path\n",
    "import requests\n",
    "import zipfile\n",
    "import numpy as np\n",
    "import pandas as pd\n",
    "import csv\n",
    "\n",
    "data_path = Path.cwd().parent / \"data\"\n",
    "fips_csv_path = data_path / \"fips_states_2010.csv\"\n",
    "csv_path = data_path / \"dataset\" / \"ejscreen_2020\""
   ]
  },
  {
   "cell_type": "code",
   "execution_count": 2,
   "id": "67a58c24",
   "metadata": {},
   "outputs": [
    {
     "name": "stderr",
     "output_type": "stream",
     "text": [
      "c:\\opt\\justice40-tool\\score\\venv\\lib\\site-packages\\urllib3\\connectionpool.py:1013: InsecureRequestWarning: Unverified HTTPS request is being made to host 'gaftp.epa.gov'. Adding certificate verification is strongly advised. See: https://urllib3.readthedocs.io/en/latest/advanced-usage.html#ssl-warnings\n",
      "  warnings.warn(\n"
     ]
    }
   ],
   "source": [
    "download = requests.get(\"https://gaftp.epa.gov/EJSCREEN/2020/EJSCREEN_2020_StatePctile.csv.zip\", verify=False)\n",
    "file_contents = download.content\n",
    "zip_file_path = data_path / \"tmp\"\n",
    "zip_file = open(zip_file_path / \"downloaded.zip\", \"wb\")\n",
    "zip_file.write(file_contents)\n",
    "zip_file.close()"
   ]
  },
  {
   "cell_type": "code",
   "execution_count": 3,
   "id": "cc3fb9ec",
   "metadata": {},
   "outputs": [],
   "source": [
    "with zipfile.ZipFile(zip_file_path / \"downloaded.zip\", \"r\") as zip_ref:\n",
    "    zip_ref.extractall(zip_file_path)\n",
    "ejscreen_csv = data_path / \"tmp\" / \"EJSCREEN_2020_StatePctile.csv\""
   ]
  },
  {
   "cell_type": "code",
   "execution_count": 4,
   "id": "b25738bb",
   "metadata": {
    "scrolled": true
   },
   "outputs": [],
   "source": [
    "df = pd.read_csv(ejscreen_csv, dtype={'ID': 'string'}, low_memory=False)"
   ]
  },
  {
   "cell_type": "code",
   "execution_count": 5,
   "id": "e6994f2d",
   "metadata": {},
   "outputs": [],
   "source": [
    "df = df[[\"ID\", \"ACSTOTPOP\", \"LESSHSPCT\", \"LOWINCPCT\"]]"
   ]
  },
  {
   "cell_type": "code",
   "execution_count": 6,
   "id": "9fa2077a",
   "metadata": {},
   "outputs": [],
   "source": [
    "# write nationwide csv\n",
    "df.to_csv(csv_path / f\"usa.csv\", index = False)"
   ]
  },
  {
   "cell_type": "code",
   "execution_count": 18,
   "id": "5e5cc12a",
   "metadata": {},
   "outputs": [
    {
     "name": "stdout",
     "output_type": "stream",
     "text": [
      "Generating 01 csv\n",
      "Generating 02 csv\n",
      "Generating 04 csv\n",
      "Generating 05 csv\n",
      "Generating 06 csv\n",
      "Generating 08 csv\n",
      "Generating 09 csv\n",
      "Generating 10 csv\n",
      "Generating 11 csv\n",
      "Generating 12 csv\n",
      "Generating 13 csv\n",
      "Generating 15 csv\n",
      "Generating 16 csv\n",
      "Generating 17 csv\n",
      "Generating 18 csv\n",
      "Generating 19 csv\n",
      "Generating 20 csv\n",
      "Generating 21 csv\n",
      "Generating 22 csv\n",
      "Generating 23 csv\n",
      "Generating 24 csv\n",
      "Generating 25 csv\n",
      "Generating 26 csv\n",
      "Generating 27 csv\n",
      "Generating 28 csv\n",
      "Generating 29 csv\n",
      "Generating 30 csv\n",
      "Generating 31 csv\n",
      "Generating 32 csv\n",
      "Generating 33 csv\n",
      "Generating 34 csv\n",
      "Generating 35 csv\n",
      "Generating 36 csv\n",
      "Generating 37 csv\n",
      "Generating 38 csv\n",
      "Generating 39 csv\n",
      "Generating 40 csv\n",
      "Generating 41 csv\n",
      "Generating 42 csv\n",
      "Generating 44 csv\n",
      "Generating 45 csv\n",
      "Generating 46 csv\n",
      "Generating 47 csv\n",
      "Generating 48 csv\n",
      "Generating 49 csv\n",
      "Generating 50 csv\n",
      "Generating 51 csv\n",
      "Generating 53 csv\n",
      "Generating 54 csv\n",
      "Generating 55 csv\n",
      "Generating 56 csv\n"
     ]
    }
   ],
   "source": [
    "# write per state csvs\n",
    "with open(fips_csv_path) as csv_file:\n",
    "    csv_reader = csv.reader(csv_file, delimiter=\",\")\n",
    "    line_count = 0\n",
    "\n",
    "    for row in csv_reader:\n",
    "        if line_count == 0:\n",
    "            line_count += 1\n",
    "        else:\n",
    "            fips = row[0].strip()\n",
    "            print(f\"Generating data{fips} csv\")\n",
    "            df1 = df[df.ID.str[:2] == fips]\n",
    "            # we need to name the file data01.csv for ogr2ogr csv merge to work\n",
    "            df1.to_csv(csv_path / f\"data{fips}.csv\", index = False)"
   ]
  },
  {
   "cell_type": "code",
   "execution_count": null,
   "id": "2674fb20",
   "metadata": {},
   "outputs": [],
   "source": []
  }
 ],
 "metadata": {
  "kernelspec": {
   "display_name": "Python 3",
   "language": "python",
   "name": "python3"
  },
  "language_info": {
   "codemirror_mode": {
    "name": "ipython",
    "version": 3
   },
   "file_extension": ".py",
   "mimetype": "text/x-python",
   "name": "python",
   "nbconvert_exporter": "python",
   "pygments_lexer": "ipython3",
   "version": "3.9.0"
  }
 },
 "nbformat": 4,
 "nbformat_minor": 5
}
