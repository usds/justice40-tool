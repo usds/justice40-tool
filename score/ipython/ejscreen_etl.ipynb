{
 "cells": [
  {
   "cell_type": "code",
   "execution_count": 11,
   "id": "20aa3891",
   "metadata": {},
   "outputs": [],
   "source": [
    "from pathlib import Path\n",
    "import requests\n",
    "import zipfile\n",
    "import numpy as np\n",
    "import pandas as pd\n",
    "import csv\n",
    "\n",
    "data_path = Path.cwd().parent / \"data\"\n",
    "fips_csv_path = data_path / \"fips_states_2010.csv\"\n",
    "csv_path = data_path / \"dataset\" / \"ejscreen_2020\""
   ]
  },
  {
   "cell_type": "code",
   "execution_count": 12,
   "id": "67a58c24",
   "metadata": {},
   "outputs": [
    {
     "name": "stderr",
     "output_type": "stream",
     "text": [
      "c:\\opt\\justice40-tool\\score\\venv\\lib\\site-packages\\urllib3\\connectionpool.py:1013: InsecureRequestWarning: Unverified HTTPS request is being made to host 'gaftp.epa.gov'. Adding certificate verification is strongly advised. See: https://urllib3.readthedocs.io/en/latest/advanced-usage.html#ssl-warnings\n",
      "  warnings.warn(\n"
     ]
    }
   ],
   "source": [
    "download = requests.get(\"https://gaftp.epa.gov/EJSCREEN/2020/EJSCREEN_2020_StatePctile.csv.zip\", verify=False)\n",
    "file_contents = download.content\n",
    "zip_file_path = data_path / \"tmp\"\n",
    "zip_file = open(zip_file_path / \"downloaded.zip\", \"wb\")\n",
    "zip_file.write(file_contents)\n",
    "zip_file.close()"
   ]
  },
  {
   "cell_type": "code",
   "execution_count": 15,
   "id": "cc3fb9ec",
   "metadata": {},
   "outputs": [],
   "source": [
    "with zipfile.ZipFile(zip_file_path / \"downloaded.zip\", \"r\") as zip_ref:\n",
    "    zip_ref.extractall(zip_file_path)\n",
    "ejscreen_csv = data_path / \"tmp\" / \"EJSCREEN_2020_StatePctile.csv\""
   ]
  },
  {
   "cell_type": "code",
   "execution_count": 16,
   "id": "b25738bb",
   "metadata": {
    "scrolled": true
   },
   "outputs": [],
   "source": [
    "df = pd.read_csv(ejscreen_csv, dtype={'ID': 'string'}, low_memory=False)"
   ]
  },
  {
   "cell_type": "code",
   "execution_count": 17,
   "id": "e6994f2d",
   "metadata": {},
   "outputs": [
    {
     "data": {
      "text/html": [
       "<div>\n",
       "<style scoped>\n",
       "    .dataframe tbody tr th:only-of-type {\n",
       "        vertical-align: middle;\n",
       "    }\n",
       "\n",
       "    .dataframe tbody tr th {\n",
       "        vertical-align: top;\n",
       "    }\n",
       "\n",
       "    .dataframe thead th {\n",
       "        text-align: right;\n",
       "    }\n",
       "</style>\n",
       "<table border=\"1\" class=\"dataframe\">\n",
       "  <thead>\n",
       "    <tr style=\"text-align: right;\">\n",
       "      <th></th>\n",
       "      <th>ID</th>\n",
       "      <th>ACSTOTPOP</th>\n",
       "      <th>LESSHSPCT</th>\n",
       "      <th>LOWINCPCT</th>\n",
       "    </tr>\n",
       "  </thead>\n",
       "  <tbody>\n",
       "    <tr>\n",
       "      <th>0</th>\n",
       "      <td>010010201001</td>\n",
       "      <td>636</td>\n",
       "      <td>0.208134</td>\n",
       "      <td>0.385220</td>\n",
       "    </tr>\n",
       "    <tr>\n",
       "      <th>1</th>\n",
       "      <td>010010201002</td>\n",
       "      <td>1287</td>\n",
       "      <td>0.040678</td>\n",
       "      <td>0.163170</td>\n",
       "    </tr>\n",
       "    <tr>\n",
       "      <th>2</th>\n",
       "      <td>010010202001</td>\n",
       "      <td>810</td>\n",
       "      <td>0.135563</td>\n",
       "      <td>0.501247</td>\n",
       "    </tr>\n",
       "    <tr>\n",
       "      <th>3</th>\n",
       "      <td>010010202002</td>\n",
       "      <td>1218</td>\n",
       "      <td>0.192000</td>\n",
       "      <td>0.393701</td>\n",
       "    </tr>\n",
       "    <tr>\n",
       "      <th>4</th>\n",
       "      <td>010010203001</td>\n",
       "      <td>2641</td>\n",
       "      <td>0.125473</td>\n",
       "      <td>0.308217</td>\n",
       "    </tr>\n",
       "  </tbody>\n",
       "</table>\n",
       "</div>"
      ],
      "text/plain": [
       "             ID  ACSTOTPOP  LESSHSPCT  LOWINCPCT\n",
       "0  010010201001        636   0.208134   0.385220\n",
       "1  010010201002       1287   0.040678   0.163170\n",
       "2  010010202001        810   0.135563   0.501247\n",
       "3  010010202002       1218   0.192000   0.393701\n",
       "4  010010203001       2641   0.125473   0.308217"
      ]
     },
     "execution_count": 17,
     "metadata": {},
     "output_type": "execute_result"
    }
   ],
   "source": [
    "df = df[[\"ID\", \"ACSTOTPOP\", \"LESSHSPCT\", \"LOWINCPCT\"]]\n",
    "df.head()"
   ]
  },
  {
   "cell_type": "code",
   "execution_count": 18,
   "id": "5e5cc12a",
   "metadata": {},
   "outputs": [
    {
     "name": "stdout",
     "output_type": "stream",
     "text": [
      "Generating 01 csv\n",
      "Generating 02 csv\n",
      "Generating 04 csv\n",
      "Generating 05 csv\n",
      "Generating 06 csv\n",
      "Generating 08 csv\n",
      "Generating 09 csv\n",
      "Generating 10 csv\n",
      "Generating 11 csv\n",
      "Generating 12 csv\n",
      "Generating 13 csv\n",
      "Generating 15 csv\n",
      "Generating 16 csv\n",
      "Generating 17 csv\n",
      "Generating 18 csv\n",
      "Generating 19 csv\n",
      "Generating 20 csv\n",
      "Generating 21 csv\n",
      "Generating 22 csv\n",
      "Generating 23 csv\n",
      "Generating 24 csv\n",
      "Generating 25 csv\n",
      "Generating 26 csv\n",
      "Generating 27 csv\n",
      "Generating 28 csv\n",
      "Generating 29 csv\n",
      "Generating 30 csv\n",
      "Generating 31 csv\n",
      "Generating 32 csv\n",
      "Generating 33 csv\n",
      "Generating 34 csv\n",
      "Generating 35 csv\n",
      "Generating 36 csv\n",
      "Generating 37 csv\n",
      "Generating 38 csv\n",
      "Generating 39 csv\n",
      "Generating 40 csv\n",
      "Generating 41 csv\n",
      "Generating 42 csv\n",
      "Generating 44 csv\n",
      "Generating 45 csv\n",
      "Generating 46 csv\n",
      "Generating 47 csv\n",
      "Generating 48 csv\n",
      "Generating 49 csv\n",
      "Generating 50 csv\n",
      "Generating 51 csv\n",
      "Generating 53 csv\n",
      "Generating 54 csv\n",
      "Generating 55 csv\n",
      "Generating 56 csv\n"
     ]
    }
   ],
   "source": [
    "# write per state csvs\n",
    "with open(fips_csv_path) as csv_file:\n",
    "    csv_reader = csv.reader(csv_file, delimiter=\",\")\n",
    "    line_count = 0\n",
    "\n",
    "    for row in csv_reader:\n",
    "        if line_count == 0:\n",
    "            line_count += 1\n",
    "        else:\n",
    "            fips = row[0].strip()\n",
    "            print(f\"Generating {fips} csv\")\n",
    "            df1 = df[df.ID.str[:2] == fips]\n",
    "            df1.to_csv(csv_path / f\"{fips}.csv\", index = False)"
   ]
  },
  {
   "cell_type": "code",
   "execution_count": null,
   "id": "2674fb20",
   "metadata": {},
   "outputs": [],
   "source": []
  }
 ],
 "metadata": {
  "kernelspec": {
   "display_name": "Python 3",
   "language": "python",
   "name": "python3"
  },
  "language_info": {
   "codemirror_mode": {
    "name": "ipython",
    "version": 3
   },
   "file_extension": ".py",
   "mimetype": "text/x-python",
   "name": "python",
   "nbconvert_exporter": "python",
   "pygments_lexer": "ipython3",
   "version": "3.9.0"
  }
 },
 "nbformat": 4,
 "nbformat_minor": 5
}
