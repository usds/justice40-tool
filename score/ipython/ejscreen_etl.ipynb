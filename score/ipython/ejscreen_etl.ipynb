{
 "cells": [
  {
   "cell_type": "code",
   "execution_count": 14,
   "id": "20aa3891",
   "metadata": {},
   "outputs": [
    {
     "name": "stdout",
     "output_type": "stream",
     "text": [
      "/Users/lucas/Documents/usds/repos/justice40-tool/score/data\n"
     ]
    }
   ],
   "source": [
    "from pathlib import Path\n",
    "import numpy as np\n",
    "import pandas as pd\n",
    "import csv\n",
    "import sys\n",
    "import os\n",
    "\n",
    "module_path = os.path.abspath(os.path.join(\"..\"))\n",
    "if module_path not in sys.path:\n",
    "    sys.path.append(module_path)\n",
    "\n",
    "from etl.sources.census.etl_utils import get_state_fips_codes\n",
    "from utils import unzip_file_from_url, remove_all_from_dir\n",
    "\n",
    "DATA_PATH = Path.cwd().parent / \"data\"\n",
    "TMP_PATH = DATA_PATH / \"tmp\"\n",
    "EJSCREEN_FTP_URL = (\n",
    "    \"https://gaftp.epa.gov/EJSCREEN/2020/EJSCREEN_2020_StatePctile.csv.zip\"\n",
    ")\n",
    "EJSCREEN_CSV = TMP_PATH / \"EJSCREEN_2020_StatePctile.csv\"\n",
    "CSV_PATH = DATA_PATH / \"dataset\" / \"ejscreen_2020\"\n",
    "print(DATA_PATH)"
   ]
  },
  {
   "cell_type": "code",
   "execution_count": 15,
   "id": "cc3fb9ec",
   "metadata": {},
   "outputs": [
    {
     "name": "stderr",
     "output_type": "stream",
     "text": [
      "2021-06-28 17:25:06,680 [utils       ] INFO     Downloading https://gaftp.epa.gov/EJSCREEN/2020/EJSCREEN_2020_StatePctile.csv.zip\n",
      "/Users/lucas/.virtualenvs/scoring/lib/python3.7/site-packages/urllib3/connectionpool.py:1020: InsecureRequestWarning: Unverified HTTPS request is being made to host 'gaftp.epa.gov'. Adding certificate verification is strongly advised. See: https://urllib3.readthedocs.io/en/latest/advanced-usage.html#ssl-warnings\n",
      "  InsecureRequestWarning,\n",
      "2021-06-28 17:25:35,985 [utils       ] INFO     Extracting /Users/lucas/Documents/usds/repos/justice40-tool/score/data/tmp/downloaded.zip\n"
     ]
    }
   ],
   "source": [
    "# download file from ejscreen ftp\n",
    "unzip_file_from_url(EJSCREEN_FTP_URL, TMP_PATH, TMP_PATH)"
   ]
  },
  {
   "cell_type": "code",
   "execution_count": 16,
   "id": "b25738bb",
   "metadata": {
    "scrolled": true
   },
   "outputs": [],
   "source": [
    "df = pd.read_csv(EJSCREEN_CSV, dtype={\"ID\": \"string\"}, low_memory=False)"
   ]
  },
  {
   "cell_type": "code",
   "execution_count": 17,
   "id": "9fa2077a",
   "metadata": {},
   "outputs": [],
   "source": [
    "# write nationwide csv\n",
    "CSV_PATH.mkdir(parents=True, exist_ok=True)\n",
    "df.to_csv(CSV_PATH / f\"usa.csv\", index=False)"
   ]
  },
  {
   "cell_type": "code",
   "execution_count": 18,
   "id": "5e5cc12a",
   "metadata": {},
   "outputs": [
    {
     "name": "stdout",
     "output_type": "stream",
     "text": [
      "Generating data01 csv\n",
      "Generating data02 csv\n",
      "Generating data04 csv\n",
      "Generating data05 csv\n",
      "Generating data06 csv\n",
      "Generating data08 csv\n",
      "Generating data09 csv\n",
      "Generating data10 csv\n",
      "Generating data11 csv\n",
      "Generating data12 csv\n",
      "Generating data13 csv\n",
      "Generating data15 csv\n",
      "Generating data16 csv\n",
      "Generating data17 csv\n",
      "Generating data18 csv\n",
      "Generating data19 csv\n",
      "Generating data20 csv\n",
      "Generating data21 csv\n",
      "Generating data22 csv\n",
      "Generating data23 csv\n",
      "Generating data24 csv\n",
      "Generating data25 csv\n",
      "Generating data26 csv\n",
      "Generating data27 csv\n",
      "Generating data28 csv\n",
      "Generating data29 csv\n",
      "Generating data30 csv\n",
      "Generating data31 csv\n",
      "Generating data32 csv\n",
      "Generating data33 csv\n",
      "Generating data34 csv\n",
      "Generating data35 csv\n",
      "Generating data36 csv\n",
      "Generating data37 csv\n",
      "Generating data38 csv\n",
      "Generating data39 csv\n",
      "Generating data40 csv\n",
      "Generating data41 csv\n",
      "Generating data42 csv\n",
      "Generating data44 csv\n",
      "Generating data45 csv\n",
      "Generating data46 csv\n",
      "Generating data47 csv\n",
      "Generating data48 csv\n",
      "Generating data49 csv\n",
      "Generating data50 csv\n",
      "Generating data51 csv\n",
      "Generating data53 csv\n",
      "Generating data54 csv\n",
      "Generating data55 csv\n",
      "Generating data56 csv\n"
     ]
    }
   ],
   "source": [
    "# write per state csvs\n",
    "for fips in get_state_fips_codes(DATA_PATH):\n",
    "    print(f\"Generating data{fips} csv\")\n",
    "    df1 = df[df.ID.str[:2] == fips]\n",
    "    # we need to name the file data01.csv for ogr2ogr csv merge to work\n",
    "    df1.to_csv(CSV_PATH / f\"data{fips}.csv\", index=False)"
   ]
  },
  {
   "cell_type": "code",
   "execution_count": 19,
   "id": "81b977f8",
   "metadata": {},
   "outputs": [
    {
     "name": "stderr",
     "output_type": "stream",
     "text": [
      "2021-06-28 17:26:24,052 [utils       ] INFO     Removing EJSCREEN_2020_StatePctile.csv\n",
      "2021-06-28 17:26:24,054 [utils       ] INFO     Removing .DS_Store\n",
      "2021-06-28 17:26:24,056 [utils       ] INFO     Removing lead_score\n",
      "2021-06-28 17:26:24,057 [utils       ] INFO     Removing Comparison Output.csv\n",
      "2021-06-28 17:26:24,058 [utils       ] INFO     Removing calenviroscreen.zip\n",
      "2021-06-28 17:26:24,060 [utils       ] INFO     Removing census\n",
      "2021-06-28 17:26:24,102 [utils       ] INFO     Removing housing_and_transportation_index\n",
      "2021-06-28 17:26:24,103 [utils       ] INFO     Removing CalEnviroScreen_4.0_2021.csv\n"
     ]
    }
   ],
   "source": [
    "# cleanup\n",
    "remove_all_from_dir(TMP_PATH)"
   ]
  },
  {
   "cell_type": "code",
   "execution_count": null,
   "id": "6d4f74d7",
   "metadata": {},
   "outputs": [],
   "source": []
  },
  {
   "cell_type": "code",
   "execution_count": null,
   "id": "2e6c6fce",
   "metadata": {},
   "outputs": [],
   "source": []
  }
 ],
 "metadata": {
  "kernelspec": {
   "display_name": "Python 3",
   "language": "python",
   "name": "python3"
  },
  "language_info": {
   "codemirror_mode": {
    "name": "ipython",
    "version": 3
   },
   "file_extension": ".py",
   "mimetype": "text/x-python",
   "name": "python",
   "nbconvert_exporter": "python",
   "pygments_lexer": "ipython3",
   "version": "3.7.1"
  }
 },
 "nbformat": 4,
 "nbformat_minor": 5
}
