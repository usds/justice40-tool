{
 "cells": [
  {
   "cell_type": "code",
   "execution_count": null,
   "id": "c21b63a3",
   "metadata": {},
   "outputs": [],
   "source": [
    "import pandas as pd\n",
    "import censusdata\n",
    "import csv\n",
    "import requests\n",
    "import zipfile\n",
    "\n",
    "from pathlib import Path\n",
    "\n",
    "ACS_YEAR = 2019\n",
    "\n",
    "DATA_PATH = Path.cwd().parent / \"data\"\n",
    "FIPS_CSV_PATH = DATA_PATH / \"fips_states_2010.csv\"\n",
    "OUTPUT_PATH = DATA_PATH / \"dataset\" / \"housing_and_transportation_index\"\n",
    "\n",
    "GEOID_FIELD_NAME = \"GEOID10\""
   ]
  },
  {
   "cell_type": "code",
   "execution_count": null,
   "id": "6696bc66",
   "metadata": {},
   "outputs": [],
   "source": [
    "# https://htaindex.cnt.org/download/download.php?focus=blkgrp&geoid=01\n",
    "\n",
    "# Download each state / territory individually\n",
    "dfs = []\n",
    "with open(FIPS_CSV_PATH) as csv_file:\n",
    "    csv_reader = csv.reader(csv_file, delimiter=\",\")\n",
    "    line_count = 0\n",
    "\n",
    "    for row in csv_reader:\n",
    "        if line_count == 0:\n",
    "            line_count += 1\n",
    "        else:\n",
    "            fips = row[0].strip()\n",
    "\n",
    "            print(f\"Downloading data for state/territory with FIPS code {fips}\")\n",
    "\n",
    "            download = requests.get(\n",
    "                f\"https://htaindex.cnt.org/download/download.php?focus=blkgrp&geoid={fips}\",\n",
    "                verify=False,\n",
    "            )\n",
    "            file_contents = download.content\n",
    "            zip_file_dir = DATA_PATH / \"tmp\" / \"housing_and_transportation_index\"\n",
    "\n",
    "            # Make the directory if it doesn't exist\n",
    "            zip_file_dir.mkdir(parents=True, exist_ok=True)\n",
    "            zip_file_path = zip_file_dir / f\"{fips}-downloaded.zip\"\n",
    "            zip_file = open(zip_file_path, \"wb\")\n",
    "            zip_file.write(file_contents)\n",
    "            zip_file.close()\n",
    "\n",
    "            with zipfile.ZipFile(zip_file_path, \"r\") as zip_ref:\n",
    "                zip_ref.extractall(zip_file_dir)\n",
    "\n",
    "            # New file name:\n",
    "            tmp_csv_file_path = zip_file_dir / f\"htaindex_data_blkgrps_{fips}.csv\"\n",
    "            tmp_df = pd.read_csv(filepath_or_buffer=tmp_csv_file_path)\n",
    "\n",
    "            dfs.append(tmp_df)\n",
    "\n",
    "df = pd.concat(dfs)\n",
    "\n",
    "df.head()"
   ]
  },
  {
   "cell_type": "code",
   "execution_count": null,
   "id": "244e0d03",
   "metadata": {},
   "outputs": [],
   "source": [
    "# Rename and reformat block group ID\n",
    "df.rename(columns={\"blkgrp\": GEOID_FIELD_NAME}, inplace=True)\n",
    "df[GEOID_FIELD_NAME] = df[GEOID_FIELD_NAME].str.replace('\"', \"\")"
   ]
  },
  {
   "cell_type": "code",
   "execution_count": null,
   "id": "8275c1ef",
   "metadata": {},
   "outputs": [],
   "source": [
    "OUTPUT_PATH.mkdir(parents=True, exist_ok=True)\n",
    "\n",
    "df.to_csv(path_or_buf=OUTPUT_PATH / \"usa.csv\", index=False)"
   ]
  },
  {
   "cell_type": "code",
   "execution_count": null,
   "id": "ef5bb862",
   "metadata": {},
   "outputs": [],
   "source": []
  }
 ],
 "metadata": {
  "kernelspec": {
   "display_name": "Python 3",
   "language": "python",
   "name": "python3"
  },
  "language_info": {
   "codemirror_mode": {
    "name": "ipython",
    "version": 3
   },
   "file_extension": ".py",
   "mimetype": "text/x-python",
   "name": "python",
   "nbconvert_exporter": "python",
   "pygments_lexer": "ipython3",
   "version": "3.9.0"
  }
 },
 "nbformat": 4,
 "nbformat_minor": 5
}
