{
 "cells": [
  {
   "cell_type": "code",
   "execution_count": null,
   "id": "c21b63a3",
   "metadata": {},
   "outputs": [],
   "source": [
    "import pandas as pd\n",
    "import censusdata\n",
    "import csv\n",
    "from pathlib import Path\n",
    "import os\n",
    "import sys\n",
    "\n",
    "module_path = os.path.abspath(os.path.join(\"..\"))\n",
    "if module_path not in sys.path:\n",
    "    sys.path.append(module_path)\n",
    "\n",
    "from etl.sources.census.etl_utils import get_state_fips_codes\n",
    "from utils import unzip_file_from_url, remove_all_from_dir\n",
    "\n",
    "ACS_YEAR = 2019\n",
    "\n",
    "DATA_PATH = Path.cwd().parent / \"data\"\n",
    "TMP_PATH = DATA_PATH / \"tmp\"\n",
    "HOUSING_FTP_URL = \"https://htaindex.cnt.org/download/download.php?focus=blkgrp&geoid=\"\n",
    "OUTPUT_PATH = DATA_PATH / \"dataset\" / \"housing_and_transportation_index\"\n",
    "\n",
    "GEOID_FIELD_NAME = \"GEOID10\""
   ]
  },
  {
   "cell_type": "code",
   "execution_count": null,
   "id": "6696bc66",
   "metadata": {},
   "outputs": [],
   "source": [
    "# Download each state / territory individually\n",
    "dfs = []\n",
    "zip_file_dir = TMP_PATH / \"housing_and_transportation_index\"\n",
    "for fips in get_state_fips_codes(DATA_PATH):\n",
    "    print(f\"Downloading housing data for state/territory with FIPS code {fips}\")\n",
    "    unzip_file_from_url(f\"{HOUSING_FTP_URL}{fips}\", TMP_PATH, zip_file_dir)\n",
    "\n",
    "    # New file name:\n",
    "    tmp_csv_file_path = zip_file_dir / f\"htaindex_data_blkgrps_{fips}.csv\"\n",
    "    tmp_df = pd.read_csv(filepath_or_buffer=tmp_csv_file_path)\n",
    "\n",
    "    dfs.append(tmp_df)\n",
    "\n",
    "df = pd.concat(dfs)\n",
    "\n",
    "df.head()"
   ]
  },
  {
   "cell_type": "code",
   "execution_count": null,
   "id": "244e0d03",
   "metadata": {},
   "outputs": [],
   "source": [
    "# Rename and reformat block group ID\n",
    "df.rename(columns={\"blkgrp\": GEOID_FIELD_NAME}, inplace=True)\n",
    "df[GEOID_FIELD_NAME] = df[GEOID_FIELD_NAME].str.replace('\"', \"\")"
   ]
  },
  {
   "cell_type": "code",
   "execution_count": null,
   "id": "8275c1ef",
   "metadata": {},
   "outputs": [],
   "source": [
    "OUTPUT_PATH.mkdir(parents=True, exist_ok=True)\n",
    "\n",
    "df.to_csv(path_or_buf=OUTPUT_PATH / \"usa.csv\", index=False)"
   ]
  },
  {
   "cell_type": "code",
   "execution_count": null,
   "id": "ef5bb862",
   "metadata": {},
   "outputs": [],
   "source": [
    "# cleanup\n",
    "remove_all_from_dir(TMP_PATH)"
   ]
  }
 ],
 "metadata": {
  "kernelspec": {
   "display_name": "Python 3",
   "language": "python",
   "name": "python3"
  },
  "language_info": {
   "codemirror_mode": {
    "name": "ipython",
    "version": 3
   },
   "file_extension": ".py",
   "mimetype": "text/x-python",
   "name": "python",
   "nbconvert_exporter": "python",
   "pygments_lexer": "ipython3",
   "version": "3.7.1"
  }
 },
 "nbformat": 4,
 "nbformat_minor": 5
}
