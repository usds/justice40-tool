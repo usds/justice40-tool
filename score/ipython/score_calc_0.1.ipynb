{
 "cells": [
  {
   "cell_type": "code",
   "execution_count": 2,
   "id": "a664f981",
   "metadata": {},
   "outputs": [],
   "source": [
    "from pathlib import Path\n",
    "import pandas as pd\n",
    "import csv\n",
    "\n",
    "data_path = Path.cwd().parent / \"data\""
   ]
  },
  {
   "cell_type": "code",
   "execution_count": 3,
   "id": "1b750f0e",
   "metadata": {},
   "outputs": [],
   "source": [
    "# store all fips codes in list\n",
    "fips_csv_path = data_path / \"fips_states_2010.csv\"\n",
    "fips_state_list = []\n",
    "with open(fips_csv_path) as csv_file:\n",
    "    csv_reader = csv.reader(csv_file, delimiter=\",\")\n",
    "    line_count = 0\n",
    "\n",
    "    for row in csv_reader:\n",
    "        if line_count == 0:\n",
    "            line_count += 1\n",
    "        else:\n",
    "            fips = row[0].strip()\n",
    "            fips_state_list.append(fips)"
   ]
  },
  {
   "cell_type": "code",
   "execution_count": 6,
   "id": "7df430cb",
   "metadata": {},
   "outputs": [],
   "source": [
    "# EJSCreen ETL Load\n",
    "csv_path = data_path / \"dataset\" / \"ejscreen_2020\""
   ]
  }
 ],
 "metadata": {
  "kernelspec": {
   "display_name": "Python 3",
   "language": "python",
   "name": "python3"
  },
  "language_info": {
   "codemirror_mode": {
    "name": "ipython",
    "version": 3
   },
   "file_extension": ".py",
   "mimetype": "text/x-python",
   "name": "python",
   "nbconvert_exporter": "python",
   "pygments_lexer": "ipython3",
   "version": "3.9.0"
  }
 },
 "nbformat": 4,
 "nbformat_minor": 5
}
