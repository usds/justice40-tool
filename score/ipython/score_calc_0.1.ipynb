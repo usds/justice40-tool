{
 "cells": [
  {
   "cell_type": "code",
   "execution_count": null,
   "id": "a664f981",
   "metadata": {},
   "outputs": [],
   "source": [
    "import collections\n",
    "from pathlib import Path\n",
    "import pandas as pd\n",
    "import csv\n",
    "\n",
    "# Define some global parameters\n",
    "BUCKET_SOCIOECONOMIC = \"Socioeconomic Factors\"\n",
    "BUCKET_SENSITIVE = \"Sensitive populations\"\n",
    "BUCKET_ENVIRONMENTAL = \"Environmental effects\"\n",
    "BUCKET_EXPOSURES = \"Exposures\"\n",
    "\n",
    "data_path = Path.cwd().parent / \"data\"\n",
    "fips_csv_path = data_path / \"fips_states_2010.csv\"\n",
    "csv_path = data_path / \"score\" / \"csv\""
   ]
  },
  {
   "cell_type": "code",
   "execution_count": null,
   "id": "7df430cb",
   "metadata": {
    "scrolled": true
   },
   "outputs": [],
   "source": [
    "# EJSCreen csv Load\n",
    "ejscreen_csv = data_path / \"dataset\" / \"ejscreen_2020\" / \"usa.csv\"\n",
    "df = pd.read_csv(ejscreen_csv, dtype={\"ID\": \"string\"}, low_memory=False)\n",
    "df.head()"
   ]
  },
  {
   "cell_type": "code",
   "execution_count": null,
   "id": "b8567900",
   "metadata": {},
   "outputs": [],
   "source": [
    "# Define a named tuple that will be used for each data set input.\n",
    "DataSet = collections.namedtuple(\n",
    "    typename=\"DataSet\", field_names=[\"input_field\", \"renamed_field\", \"bucket\"]\n",
    ")\n",
    "\n",
    "data_sets = [\n",
    "            DataSet(input_field=\"\",renamed_field=\"Air toxics cancer risk\", bucket=BUCKET_EXPOSURES),\n",
    "            DataSet(input_field=\"\",renamed_field=\"Respiratory hazard index\", bucket=BUCKET_EXPOSURES),\n",
    "            DataSet(input_field=\"\",renamed_field=\"Diesel particulate matter\", bucket=BUCKET_EXPOSURES),\n",
    "            DataSet(input_field=\"\",renamed_field=\"Particulate matter (PM2.5)\", bucket=BUCKET_EXPOSURES),\n",
    "            DataSet(input_field=\"\",renamed_field=\"Ozone\", bucket=BUCKET_EXPOSURES),\n",
    "            DataSet(input_field=\"\",renamed_field=\"Traffic proximity and volume\", bucket=BUCKET_EXPOSURES),\n",
    "    DataSet(input_field=\"\", renamed_field=\"Proximity to RMP sites\", bucket=BUCKET_ENVIRONMENTAL),\n",
    "    DataSet(input_field=\"\", renamed_field=\"Proximity to TSDF sites\", bucket=BUCKET_),\n",
    "    DataSet(input_field=\"\", renamed_field=\"Proximity to NPL sites\", bucket=BUCKET_),\n",
    "    DataSet(input_field=\"\", renamed_field=\"Wastewater discharge\", bucket=BUCKET_),\n",
    "    DataSet(input_field=\"\", renamed_field=\"Lead paint indicator (pre-1960s housing)\", bucket=BUCKET_),\n",
    "    DataSet(input_field=\"\", renamed_field=\"Individuals under 5 years old\", bucket=BUCKET_SENSITIVE),\n",
    "    DataSet(input_field=\"\", renamed_field=\"Individuals over 64 years old\", bucket=BUCKET_SENSITIVE),\n",
    "    DataSet(input_field=\"\", renamed_field=\"Linguistic isolation\", bucket=BUCKET_SOCIOECONOMIC),\n",
    "    DataSet(input_field=\"\", renamed_field=\"Poverty (Less than 200% of federal poverty line)\", bucket=BUCKET_SOCIOECONOMIC),\n",
    "    DataSet(\n",
    "        input_field=\"lesshs\",\n",
    "        renamed_field=\"percent_less_than_high_school_education\",\n",
    "        bucket=BUCKET_SOCIOECONOMIC,\n",
    "    ),\n",
    "]"
   ]
  },
  {
   "cell_type": "code",
   "execution_count": null,
   "id": "27677132",
   "metadata": {
    "scrolled": true
   },
   "outputs": [],
   "source": [
    "# calculate percentiles\n",
    "df[\"lesshs_percentile\"] = df.LESSHSPCT.rank(pct=True)\n",
    "df[\"lowin_percentile\"] = df.LOWINCPCT.rank(pct=True)"
   ]
  },
  {
   "cell_type": "code",
   "execution_count": null,
   "id": "1f7b864f",
   "metadata": {
    "scrolled": true
   },
   "outputs": [],
   "source": [
    "# calculate scores\n",
    "df[\"score_a\"] = df[[\"lesshs_percentile\", \"lowin_percentile\"]].mean(axis=1)\n",
    "df[\"score_b\"] = df.lesshs_percentile * df.lowin_percentile\n",
    "\n",
    "# Create percentiles for the scores\n",
    "df[\"score_a_percentile\"] = df.score_a.rank(pct=True)\n",
    "df[\"score_b_percentile\"] = df.score_b.rank(pct=True)\n",
    "df[\"score_a_top_percentile_25\"] = df[\"score_a_percentile\"] >= 0.75\n",
    "df[\"score_b_top_percentile_25\"] = df[\"score_b_percentile\"] >= 0.75\n",
    "df.head()"
   ]
  },
  {
   "cell_type": "code",
   "execution_count": null,
   "id": "91755bcf",
   "metadata": {},
   "outputs": [],
   "source": [
    "# strip calculations\n",
    "df = df[\n",
    "    [\n",
    "        \"ID\",\n",
    "        \"ACSTOTPOP\",\n",
    "        \"score_a\",\n",
    "        \"score_b\",\n",
    "        \"score_a_percentile\",\n",
    "        \"score_b_percentile\",\n",
    "        \"score_a_top_percentile_25\",\n",
    "        \"score_b_top_percentile_25\",\n",
    "    ]\n",
    "]"
   ]
  },
  {
   "cell_type": "code",
   "execution_count": null,
   "id": "b3a65af4",
   "metadata": {},
   "outputs": [],
   "source": [
    "# write nationwide csv\n",
    "df.to_csv(csv_path / f\"usa.csv\", index=False)"
   ]
  },
  {
   "cell_type": "code",
   "execution_count": null,
   "id": "58ddd8b3",
   "metadata": {},
   "outputs": [],
   "source": [
    "# write per state csvs\n",
    "with open(fips_csv_path) as csv_file:\n",
    "    csv_reader = csv.reader(csv_file, delimiter=\",\")\n",
    "    line_count = 0\n",
    "\n",
    "    for row in csv_reader:\n",
    "        if line_count == 0:\n",
    "            line_count += 1\n",
    "        else:\n",
    "            fips = row[0].strip()\n",
    "            print(f\"Generating data{fips} csv\")\n",
    "            df1 = df[df.ID.str[:2] == fips]\n",
    "            # we need to name the file data01.csv for ogr2ogr csv merge to work\n",
    "            df1.to_csv(csv_path / f\"data{fips}.csv\", index=False)"
   ]
  }
 ],
 "metadata": {
  "kernelspec": {
   "display_name": "Python 3",
   "language": "python",
   "name": "python3"
  },
  "language_info": {
   "codemirror_mode": {
    "name": "ipython",
    "version": 3
   },
   "file_extension": ".py",
   "mimetype": "text/x-python",
   "name": "python",
   "nbconvert_exporter": "python",
   "pygments_lexer": "ipython3",
   "version": "3.7.1"
  }
 },
 "nbformat": 4,
 "nbformat_minor": 5
}
